{
 "cells": [
  {
   "cell_type": "markdown",
   "metadata": {},
   "source": [
    "# Analyse US Bike Share data"
   ]
  },
  {
   "cell_type": "markdown",
   "metadata": {},
   "source": [
    "Importing necessary libraries"
   ]
  },
  {
   "cell_type": "code",
   "execution_count": 1,
   "metadata": {},
   "outputs": [],
   "source": [
    "import numpy as np\n",
    "import pandas as pd\n",
    "import matplotlib.pyplot as plt\n",
    "%matplotlib inline\n",
    "import seaborn as sb"
   ]
  },
  {
   "cell_type": "markdown",
   "metadata": {},
   "source": [
    "## Gathering Data"
   ]
  },
  {
   "cell_type": "markdown",
   "metadata": {},
   "source": [
    "We are gathering Bike Share data from July 2017 to June 2018"
   ]
  },
  {
   "cell_type": "markdown",
   "metadata": {},
   "source": [
    "Loading Bike Share csv data"
   ]
  },
  {
   "cell_type": "code",
   "execution_count": 2,
   "metadata": {},
   "outputs": [],
   "source": [
    "df_bike_share = pd.read_csv('2017-fordgobike-tripdata.csv')"
   ]
  },
  {
   "cell_type": "code",
   "execution_count": 3,
   "metadata": {},
   "outputs": [],
   "source": [
    "for i in range(1,7):\n",
    "    file_name = '20180' + str(i) + '-fordgobike-tripdata.csv'\n",
    "    df_new = pd.read_csv(file_name)\n",
    "    df_bike_share = pd.concat([df_bike_share, df_new],\n",
    "                             ignore_index=True)"
   ]
  },
  {
   "cell_type": "code",
   "execution_count": 4,
   "metadata": {},
   "outputs": [
    {
     "data": {
      "text/html": [
       "<div>\n",
       "<style>\n",
       "    .dataframe thead tr:only-child th {\n",
       "        text-align: right;\n",
       "    }\n",
       "\n",
       "    .dataframe thead th {\n",
       "        text-align: left;\n",
       "    }\n",
       "\n",
       "    .dataframe tbody tr th {\n",
       "        vertical-align: top;\n",
       "    }\n",
       "</style>\n",
       "<table border=\"1\" class=\"dataframe\">\n",
       "  <thead>\n",
       "    <tr style=\"text-align: right;\">\n",
       "      <th></th>\n",
       "      <th>bike_id</th>\n",
       "      <th>bike_share_for_all_trip</th>\n",
       "      <th>duration_sec</th>\n",
       "      <th>end_station_id</th>\n",
       "      <th>end_station_latitude</th>\n",
       "      <th>end_station_longitude</th>\n",
       "      <th>end_station_name</th>\n",
       "      <th>end_time</th>\n",
       "      <th>member_birth_year</th>\n",
       "      <th>member_gender</th>\n",
       "      <th>start_station_id</th>\n",
       "      <th>start_station_latitude</th>\n",
       "      <th>start_station_longitude</th>\n",
       "      <th>start_station_name</th>\n",
       "      <th>start_time</th>\n",
       "      <th>user_type</th>\n",
       "    </tr>\n",
       "  </thead>\n",
       "  <tbody>\n",
       "    <tr>\n",
       "      <th>1338859</th>\n",
       "      <td>3848</td>\n",
       "      <td>No</td>\n",
       "      <td>491</td>\n",
       "      <td>113.0</td>\n",
       "      <td>37.764555</td>\n",
       "      <td>-122.410345</td>\n",
       "      <td>Franklin Square</td>\n",
       "      <td>2018-06-01 00:11:24.1070</td>\n",
       "      <td>1965.0</td>\n",
       "      <td>Male</td>\n",
       "      <td>41.0</td>\n",
       "      <td>37.781270</td>\n",
       "      <td>-122.418740</td>\n",
       "      <td>Golden Gate Ave at Polk St</td>\n",
       "      <td>2018-06-01 00:03:12.2280</td>\n",
       "      <td>Subscriber</td>\n",
       "    </tr>\n",
       "    <tr>\n",
       "      <th>1338860</th>\n",
       "      <td>4036</td>\n",
       "      <td>No</td>\n",
       "      <td>507</td>\n",
       "      <td>141.0</td>\n",
       "      <td>37.747998</td>\n",
       "      <td>-122.420219</td>\n",
       "      <td>Valencia St at Cesar Chavez St</td>\n",
       "      <td>2018-06-01 00:10:55.6850</td>\n",
       "      <td>1972.0</td>\n",
       "      <td>Male</td>\n",
       "      <td>118.0</td>\n",
       "      <td>37.759177</td>\n",
       "      <td>-122.436943</td>\n",
       "      <td>Eureka Valley Recreation Center</td>\n",
       "      <td>2018-06-01 00:02:28.3230</td>\n",
       "      <td>Subscriber</td>\n",
       "    </tr>\n",
       "    <tr>\n",
       "      <th>1338861</th>\n",
       "      <td>1242</td>\n",
       "      <td>No</td>\n",
       "      <td>377</td>\n",
       "      <td>195.0</td>\n",
       "      <td>37.812314</td>\n",
       "      <td>-122.260779</td>\n",
       "      <td>Bay Pl at Vernon St</td>\n",
       "      <td>2018-06-01 00:10:27.6620</td>\n",
       "      <td>1976.0</td>\n",
       "      <td>Male</td>\n",
       "      <td>186.0</td>\n",
       "      <td>37.801319</td>\n",
       "      <td>-122.262642</td>\n",
       "      <td>Lakeside Dr at 14th St</td>\n",
       "      <td>2018-06-01 00:04:10.0830</td>\n",
       "      <td>Subscriber</td>\n",
       "    </tr>\n",
       "    <tr>\n",
       "      <th>1338862</th>\n",
       "      <td>3800</td>\n",
       "      <td>No</td>\n",
       "      <td>391</td>\n",
       "      <td>27.0</td>\n",
       "      <td>37.788059</td>\n",
       "      <td>-122.391865</td>\n",
       "      <td>Beale St at Harrison St</td>\n",
       "      <td>2018-06-01 00:10:08.9190</td>\n",
       "      <td>1976.0</td>\n",
       "      <td>Male</td>\n",
       "      <td>30.0</td>\n",
       "      <td>37.776598</td>\n",
       "      <td>-122.395282</td>\n",
       "      <td>San Francisco Caltrain (Townsend St at 4th St)</td>\n",
       "      <td>2018-06-01 00:03:37.7150</td>\n",
       "      <td>Subscriber</td>\n",
       "    </tr>\n",
       "    <tr>\n",
       "      <th>1338863</th>\n",
       "      <td>1607</td>\n",
       "      <td>No</td>\n",
       "      <td>283</td>\n",
       "      <td>81.0</td>\n",
       "      <td>37.775880</td>\n",
       "      <td>-122.393170</td>\n",
       "      <td>Berry St at 4th St</td>\n",
       "      <td>2018-06-01 00:07:21.1330</td>\n",
       "      <td>1987.0</td>\n",
       "      <td>Male</td>\n",
       "      <td>36.0</td>\n",
       "      <td>37.783830</td>\n",
       "      <td>-122.398870</td>\n",
       "      <td>Folsom St at 3rd St</td>\n",
       "      <td>2018-06-01 00:02:37.3310</td>\n",
       "      <td>Subscriber</td>\n",
       "    </tr>\n",
       "  </tbody>\n",
       "</table>\n",
       "</div>"
      ],
      "text/plain": [
       "         bike_id bike_share_for_all_trip  duration_sec  end_station_id  \\\n",
       "1338859     3848                      No           491           113.0   \n",
       "1338860     4036                      No           507           141.0   \n",
       "1338861     1242                      No           377           195.0   \n",
       "1338862     3800                      No           391            27.0   \n",
       "1338863     1607                      No           283            81.0   \n",
       "\n",
       "         end_station_latitude  end_station_longitude  \\\n",
       "1338859             37.764555            -122.410345   \n",
       "1338860             37.747998            -122.420219   \n",
       "1338861             37.812314            -122.260779   \n",
       "1338862             37.788059            -122.391865   \n",
       "1338863             37.775880            -122.393170   \n",
       "\n",
       "                       end_station_name                  end_time  \\\n",
       "1338859                 Franklin Square  2018-06-01 00:11:24.1070   \n",
       "1338860  Valencia St at Cesar Chavez St  2018-06-01 00:10:55.6850   \n",
       "1338861             Bay Pl at Vernon St  2018-06-01 00:10:27.6620   \n",
       "1338862         Beale St at Harrison St  2018-06-01 00:10:08.9190   \n",
       "1338863              Berry St at 4th St  2018-06-01 00:07:21.1330   \n",
       "\n",
       "         member_birth_year member_gender  start_station_id  \\\n",
       "1338859             1965.0          Male              41.0   \n",
       "1338860             1972.0          Male             118.0   \n",
       "1338861             1976.0          Male             186.0   \n",
       "1338862             1976.0          Male              30.0   \n",
       "1338863             1987.0          Male              36.0   \n",
       "\n",
       "         start_station_latitude  start_station_longitude  \\\n",
       "1338859               37.781270              -122.418740   \n",
       "1338860               37.759177              -122.436943   \n",
       "1338861               37.801319              -122.262642   \n",
       "1338862               37.776598              -122.395282   \n",
       "1338863               37.783830              -122.398870   \n",
       "\n",
       "                                     start_station_name  \\\n",
       "1338859                      Golden Gate Ave at Polk St   \n",
       "1338860                 Eureka Valley Recreation Center   \n",
       "1338861                          Lakeside Dr at 14th St   \n",
       "1338862  San Francisco Caltrain (Townsend St at 4th St)   \n",
       "1338863                             Folsom St at 3rd St   \n",
       "\n",
       "                       start_time   user_type  \n",
       "1338859  2018-06-01 00:03:12.2280  Subscriber  \n",
       "1338860  2018-06-01 00:02:28.3230  Subscriber  \n",
       "1338861  2018-06-01 00:04:10.0830  Subscriber  \n",
       "1338862  2018-06-01 00:03:37.7150  Subscriber  \n",
       "1338863  2018-06-01 00:02:37.3310  Subscriber  "
      ]
     },
     "execution_count": 4,
     "metadata": {},
     "output_type": "execute_result"
    }
   ],
   "source": [
    "df_bike_share.tail()"
   ]
  },
  {
   "cell_type": "code",
   "execution_count": 5,
   "metadata": {},
   "outputs": [
    {
     "name": "stdout",
     "output_type": "stream",
     "text": [
      "<class 'pandas.core.frame.DataFrame'>\n",
      "RangeIndex: 1338864 entries, 0 to 1338863\n",
      "Data columns (total 16 columns):\n",
      "bike_id                    1338864 non-null int64\n",
      "bike_share_for_all_trip    819164 non-null object\n",
      "duration_sec               1338864 non-null int64\n",
      "end_station_id             1336803 non-null float64\n",
      "end_station_latitude       1338864 non-null float64\n",
      "end_station_longitude      1338864 non-null float64\n",
      "end_station_name           1336803 non-null object\n",
      "end_time                   1338864 non-null object\n",
      "member_birth_year          1213626 non-null float64\n",
      "member_gender              1213928 non-null object\n",
      "start_station_id           1336803 non-null float64\n",
      "start_station_latitude     1338864 non-null float64\n",
      "start_station_longitude    1338864 non-null float64\n",
      "start_station_name         1336803 non-null object\n",
      "start_time                 1338864 non-null object\n",
      "user_type                  1338864 non-null object\n",
      "dtypes: float64(7), int64(2), object(7)\n",
      "memory usage: 163.4+ MB\n"
     ]
    }
   ],
   "source": [
    "df_bike_share.info()"
   ]
  },
  {
   "cell_type": "markdown",
   "metadata": {},
   "source": [
    "## Assessing Data"
   ]
  },
  {
   "cell_type": "markdown",
   "metadata": {},
   "source": [
    "Inspecting the dataset for quality and tidyness issues"
   ]
  },
  {
   "cell_type": "code",
   "execution_count": 6,
   "metadata": {},
   "outputs": [
    {
     "data": {
      "text/html": [
       "<div>\n",
       "<style>\n",
       "    .dataframe thead tr:only-child th {\n",
       "        text-align: right;\n",
       "    }\n",
       "\n",
       "    .dataframe thead th {\n",
       "        text-align: left;\n",
       "    }\n",
       "\n",
       "    .dataframe tbody tr th {\n",
       "        vertical-align: top;\n",
       "    }\n",
       "</style>\n",
       "<table border=\"1\" class=\"dataframe\">\n",
       "  <thead>\n",
       "    <tr style=\"text-align: right;\">\n",
       "      <th></th>\n",
       "      <th>bike_id</th>\n",
       "      <th>bike_share_for_all_trip</th>\n",
       "      <th>duration_sec</th>\n",
       "      <th>end_station_id</th>\n",
       "      <th>end_station_latitude</th>\n",
       "      <th>end_station_longitude</th>\n",
       "      <th>end_station_name</th>\n",
       "      <th>end_time</th>\n",
       "      <th>member_birth_year</th>\n",
       "      <th>member_gender</th>\n",
       "      <th>start_station_id</th>\n",
       "      <th>start_station_latitude</th>\n",
       "      <th>start_station_longitude</th>\n",
       "      <th>start_station_name</th>\n",
       "      <th>start_time</th>\n",
       "      <th>user_type</th>\n",
       "    </tr>\n",
       "  </thead>\n",
       "  <tbody>\n",
       "    <tr>\n",
       "      <th>0</th>\n",
       "      <td>96</td>\n",
       "      <td>NaN</td>\n",
       "      <td>80110</td>\n",
       "      <td>43.0</td>\n",
       "      <td>37.778768</td>\n",
       "      <td>-122.415929</td>\n",
       "      <td>San Francisco Public Library (Grove St at Hyde...</td>\n",
       "      <td>2018-01-01 15:12:50.2450</td>\n",
       "      <td>1987.0</td>\n",
       "      <td>Male</td>\n",
       "      <td>74.0</td>\n",
       "      <td>37.776435</td>\n",
       "      <td>-122.426244</td>\n",
       "      <td>Laguna St at Hayes St</td>\n",
       "      <td>2017-12-31 16:57:39.6540</td>\n",
       "      <td>Customer</td>\n",
       "    </tr>\n",
       "    <tr>\n",
       "      <th>1</th>\n",
       "      <td>88</td>\n",
       "      <td>NaN</td>\n",
       "      <td>78800</td>\n",
       "      <td>96.0</td>\n",
       "      <td>37.766210</td>\n",
       "      <td>-122.426614</td>\n",
       "      <td>Dolores St at 15th St</td>\n",
       "      <td>2018-01-01 13:49:55.6170</td>\n",
       "      <td>1965.0</td>\n",
       "      <td>Female</td>\n",
       "      <td>284.0</td>\n",
       "      <td>37.784872</td>\n",
       "      <td>-122.400876</td>\n",
       "      <td>Yerba Buena Center for the Arts (Howard St at ...</td>\n",
       "      <td>2017-12-31 15:56:34.8420</td>\n",
       "      <td>Customer</td>\n",
       "    </tr>\n",
       "    <tr>\n",
       "      <th>2</th>\n",
       "      <td>1094</td>\n",
       "      <td>NaN</td>\n",
       "      <td>45768</td>\n",
       "      <td>245.0</td>\n",
       "      <td>37.870348</td>\n",
       "      <td>-122.267764</td>\n",
       "      <td>Downtown Berkeley BART</td>\n",
       "      <td>2018-01-01 11:28:36.8830</td>\n",
       "      <td>NaN</td>\n",
       "      <td>NaN</td>\n",
       "      <td>245.0</td>\n",
       "      <td>37.870348</td>\n",
       "      <td>-122.267764</td>\n",
       "      <td>Downtown Berkeley BART</td>\n",
       "      <td>2017-12-31 22:45:48.4110</td>\n",
       "      <td>Customer</td>\n",
       "    </tr>\n",
       "    <tr>\n",
       "      <th>3</th>\n",
       "      <td>2831</td>\n",
       "      <td>NaN</td>\n",
       "      <td>62172</td>\n",
       "      <td>5.0</td>\n",
       "      <td>37.783899</td>\n",
       "      <td>-122.408445</td>\n",
       "      <td>Powell St BART Station (Market St at 5th St)</td>\n",
       "      <td>2018-01-01 10:47:23.5310</td>\n",
       "      <td>NaN</td>\n",
       "      <td>NaN</td>\n",
       "      <td>60.0</td>\n",
       "      <td>37.774520</td>\n",
       "      <td>-122.409449</td>\n",
       "      <td>8th St at Ringold St</td>\n",
       "      <td>2017-12-31 17:31:10.6360</td>\n",
       "      <td>Customer</td>\n",
       "    </tr>\n",
       "    <tr>\n",
       "      <th>4</th>\n",
       "      <td>3167</td>\n",
       "      <td>NaN</td>\n",
       "      <td>43603</td>\n",
       "      <td>247.0</td>\n",
       "      <td>37.867789</td>\n",
       "      <td>-122.265896</td>\n",
       "      <td>Fulton St at Bancroft Way</td>\n",
       "      <td>2018-01-01 02:29:57.5710</td>\n",
       "      <td>1997.0</td>\n",
       "      <td>Female</td>\n",
       "      <td>239.0</td>\n",
       "      <td>37.868813</td>\n",
       "      <td>-122.258764</td>\n",
       "      <td>Bancroft Way at Telegraph Ave</td>\n",
       "      <td>2017-12-31 14:23:14.0010</td>\n",
       "      <td>Subscriber</td>\n",
       "    </tr>\n",
       "  </tbody>\n",
       "</table>\n",
       "</div>"
      ],
      "text/plain": [
       "   bike_id bike_share_for_all_trip  duration_sec  end_station_id  \\\n",
       "0       96                     NaN         80110            43.0   \n",
       "1       88                     NaN         78800            96.0   \n",
       "2     1094                     NaN         45768           245.0   \n",
       "3     2831                     NaN         62172             5.0   \n",
       "4     3167                     NaN         43603           247.0   \n",
       "\n",
       "   end_station_latitude  end_station_longitude  \\\n",
       "0             37.778768            -122.415929   \n",
       "1             37.766210            -122.426614   \n",
       "2             37.870348            -122.267764   \n",
       "3             37.783899            -122.408445   \n",
       "4             37.867789            -122.265896   \n",
       "\n",
       "                                    end_station_name  \\\n",
       "0  San Francisco Public Library (Grove St at Hyde...   \n",
       "1                              Dolores St at 15th St   \n",
       "2                             Downtown Berkeley BART   \n",
       "3       Powell St BART Station (Market St at 5th St)   \n",
       "4                          Fulton St at Bancroft Way   \n",
       "\n",
       "                   end_time  member_birth_year member_gender  \\\n",
       "0  2018-01-01 15:12:50.2450             1987.0          Male   \n",
       "1  2018-01-01 13:49:55.6170             1965.0        Female   \n",
       "2  2018-01-01 11:28:36.8830                NaN           NaN   \n",
       "3  2018-01-01 10:47:23.5310                NaN           NaN   \n",
       "4  2018-01-01 02:29:57.5710             1997.0        Female   \n",
       "\n",
       "   start_station_id  start_station_latitude  start_station_longitude  \\\n",
       "0              74.0               37.776435              -122.426244   \n",
       "1             284.0               37.784872              -122.400876   \n",
       "2             245.0               37.870348              -122.267764   \n",
       "3              60.0               37.774520              -122.409449   \n",
       "4             239.0               37.868813              -122.258764   \n",
       "\n",
       "                                  start_station_name  \\\n",
       "0                              Laguna St at Hayes St   \n",
       "1  Yerba Buena Center for the Arts (Howard St at ...   \n",
       "2                             Downtown Berkeley BART   \n",
       "3                               8th St at Ringold St   \n",
       "4                      Bancroft Way at Telegraph Ave   \n",
       "\n",
       "                 start_time   user_type  \n",
       "0  2017-12-31 16:57:39.6540    Customer  \n",
       "1  2017-12-31 15:56:34.8420    Customer  \n",
       "2  2017-12-31 22:45:48.4110    Customer  \n",
       "3  2017-12-31 17:31:10.6360    Customer  \n",
       "4  2017-12-31 14:23:14.0010  Subscriber  "
      ]
     },
     "execution_count": 6,
     "metadata": {},
     "output_type": "execute_result"
    }
   ],
   "source": [
    "df_bike_share.head()"
   ]
  },
  {
   "cell_type": "code",
   "execution_count": 7,
   "metadata": {},
   "outputs": [
    {
     "data": {
      "text/plain": [
       "Index(['bike_id', 'bike_share_for_all_trip', 'duration_sec', 'end_station_id',\n",
       "       'end_station_latitude', 'end_station_longitude', 'end_station_name',\n",
       "       'end_time', 'member_birth_year', 'member_gender', 'start_station_id',\n",
       "       'start_station_latitude', 'start_station_longitude',\n",
       "       'start_station_name', 'start_time', 'user_type'],\n",
       "      dtype='object')"
      ]
     },
     "execution_count": 7,
     "metadata": {},
     "output_type": "execute_result"
    }
   ],
   "source": [
    "df_bike_share.columns"
   ]
  },
  {
   "cell_type": "code",
   "execution_count": 8,
   "metadata": {},
   "outputs": [
    {
     "name": "stdout",
     "output_type": "stream",
     "text": [
      "<class 'pandas.core.frame.DataFrame'>\n",
      "RangeIndex: 1338864 entries, 0 to 1338863\n",
      "Data columns (total 16 columns):\n",
      "bike_id                    1338864 non-null int64\n",
      "bike_share_for_all_trip    819164 non-null object\n",
      "duration_sec               1338864 non-null int64\n",
      "end_station_id             1336803 non-null float64\n",
      "end_station_latitude       1338864 non-null float64\n",
      "end_station_longitude      1338864 non-null float64\n",
      "end_station_name           1336803 non-null object\n",
      "end_time                   1338864 non-null object\n",
      "member_birth_year          1213626 non-null float64\n",
      "member_gender              1213928 non-null object\n",
      "start_station_id           1336803 non-null float64\n",
      "start_station_latitude     1338864 non-null float64\n",
      "start_station_longitude    1338864 non-null float64\n",
      "start_station_name         1336803 non-null object\n",
      "start_time                 1338864 non-null object\n",
      "user_type                  1338864 non-null object\n",
      "dtypes: float64(7), int64(2), object(7)\n",
      "memory usage: 163.4+ MB\n"
     ]
    }
   ],
   "source": [
    "df_bike_share.info()"
   ]
  },
  {
   "cell_type": "code",
   "execution_count": 9,
   "metadata": {},
   "outputs": [
    {
     "data": {
      "text/plain": [
       "Subscriber    1101580\n",
       "Customer       237284\n",
       "Name: user_type, dtype: int64"
      ]
     },
     "execution_count": 9,
     "metadata": {},
     "output_type": "execute_result"
    }
   ],
   "source": [
    "df_bike_share['user_type'].value_counts()"
   ]
  },
  {
   "cell_type": "code",
   "execution_count": 10,
   "metadata": {},
   "outputs": [
    {
     "data": {
      "text/plain": [
       "Male      908002\n",
       "Female    288008\n",
       "Other      17918\n",
       "Name: member_gender, dtype: int64"
      ]
     },
     "execution_count": 10,
     "metadata": {},
     "output_type": "execute_result"
    }
   ],
   "source": [
    "df_bike_share['member_gender'].value_counts()"
   ]
  },
  {
   "cell_type": "code",
   "execution_count": 11,
   "metadata": {},
   "outputs": [
    {
     "data": {
      "text/html": [
       "<div>\n",
       "<style>\n",
       "    .dataframe thead tr:only-child th {\n",
       "        text-align: right;\n",
       "    }\n",
       "\n",
       "    .dataframe thead th {\n",
       "        text-align: left;\n",
       "    }\n",
       "\n",
       "    .dataframe tbody tr th {\n",
       "        vertical-align: top;\n",
       "    }\n",
       "</style>\n",
       "<table border=\"1\" class=\"dataframe\">\n",
       "  <thead>\n",
       "    <tr style=\"text-align: right;\">\n",
       "      <th></th>\n",
       "      <th>bike_id</th>\n",
       "      <th>duration_sec</th>\n",
       "      <th>end_station_id</th>\n",
       "      <th>end_station_latitude</th>\n",
       "      <th>end_station_longitude</th>\n",
       "      <th>member_birth_year</th>\n",
       "      <th>start_station_id</th>\n",
       "      <th>start_station_latitude</th>\n",
       "      <th>start_station_longitude</th>\n",
       "    </tr>\n",
       "  </thead>\n",
       "  <tbody>\n",
       "    <tr>\n",
       "      <th>count</th>\n",
       "      <td>1.338864e+06</td>\n",
       "      <td>1.338864e+06</td>\n",
       "      <td>1.336803e+06</td>\n",
       "      <td>1.338864e+06</td>\n",
       "      <td>1.338864e+06</td>\n",
       "      <td>1.213626e+06</td>\n",
       "      <td>1.336803e+06</td>\n",
       "      <td>1.338864e+06</td>\n",
       "      <td>1.338864e+06</td>\n",
       "    </tr>\n",
       "    <tr>\n",
       "      <th>mean</th>\n",
       "      <td>1.987671e+03</td>\n",
       "      <td>9.647702e+02</td>\n",
       "      <td>1.038589e+02</td>\n",
       "      <td>3.776922e+01</td>\n",
       "      <td>-1.223558e+02</td>\n",
       "      <td>1.981468e+03</td>\n",
       "      <td>1.060832e+02</td>\n",
       "      <td>3.776906e+01</td>\n",
       "      <td>-1.223565e+02</td>\n",
       "    </tr>\n",
       "    <tr>\n",
       "      <th>std</th>\n",
       "      <td>1.137599e+03</td>\n",
       "      <td>2.945693e+03</td>\n",
       "      <td>9.142859e+01</td>\n",
       "      <td>9.678806e-02</td>\n",
       "      <td>1.557933e-01</td>\n",
       "      <td>1.056388e+01</td>\n",
       "      <td>9.194348e+01</td>\n",
       "      <td>9.689138e-02</td>\n",
       "      <td>1.561779e-01</td>\n",
       "    </tr>\n",
       "    <tr>\n",
       "      <th>min</th>\n",
       "      <td>1.000000e+01</td>\n",
       "      <td>6.100000e+01</td>\n",
       "      <td>3.000000e+00</td>\n",
       "      <td>3.731285e+01</td>\n",
       "      <td>-1.224443e+02</td>\n",
       "      <td>1.886000e+03</td>\n",
       "      <td>3.000000e+00</td>\n",
       "      <td>3.731285e+01</td>\n",
       "      <td>-1.224443e+02</td>\n",
       "    </tr>\n",
       "    <tr>\n",
       "      <th>25%</th>\n",
       "      <td>1.025000e+03</td>\n",
       "      <td>3.620000e+02</td>\n",
       "      <td>2.700000e+01</td>\n",
       "      <td>3.777331e+01</td>\n",
       "      <td>-1.224107e+02</td>\n",
       "      <td>1.976000e+03</td>\n",
       "      <td>2.800000e+01</td>\n",
       "      <td>3.777241e+01</td>\n",
       "      <td>-1.224117e+02</td>\n",
       "    </tr>\n",
       "    <tr>\n",
       "      <th>50%</th>\n",
       "      <td>2.043000e+03</td>\n",
       "      <td>5.700000e+02</td>\n",
       "      <td>7.500000e+01</td>\n",
       "      <td>3.778240e+01</td>\n",
       "      <td>-1.223974e+02</td>\n",
       "      <td>1.984000e+03</td>\n",
       "      <td>7.800000e+01</td>\n",
       "      <td>3.778175e+01</td>\n",
       "      <td>-1.223985e+02</td>\n",
       "    </tr>\n",
       "    <tr>\n",
       "      <th>75%</th>\n",
       "      <td>2.907000e+03</td>\n",
       "      <td>8.950000e+02</td>\n",
       "      <td>1.630000e+02</td>\n",
       "      <td>3.779539e+01</td>\n",
       "      <td>-1.223903e+02</td>\n",
       "      <td>1.989000e+03</td>\n",
       "      <td>1.670000e+02</td>\n",
       "      <td>3.779539e+01</td>\n",
       "      <td>-1.223898e+02</td>\n",
       "    </tr>\n",
       "    <tr>\n",
       "      <th>max</th>\n",
       "      <td>4.307000e+03</td>\n",
       "      <td>8.636900e+04</td>\n",
       "      <td>3.560000e+02</td>\n",
       "      <td>4.551000e+01</td>\n",
       "      <td>-7.357000e+01</td>\n",
       "      <td>2.000000e+03</td>\n",
       "      <td>3.560000e+02</td>\n",
       "      <td>4.551000e+01</td>\n",
       "      <td>-7.357000e+01</td>\n",
       "    </tr>\n",
       "  </tbody>\n",
       "</table>\n",
       "</div>"
      ],
      "text/plain": [
       "            bike_id  duration_sec  end_station_id  end_station_latitude  \\\n",
       "count  1.338864e+06  1.338864e+06    1.336803e+06          1.338864e+06   \n",
       "mean   1.987671e+03  9.647702e+02    1.038589e+02          3.776922e+01   \n",
       "std    1.137599e+03  2.945693e+03    9.142859e+01          9.678806e-02   \n",
       "min    1.000000e+01  6.100000e+01    3.000000e+00          3.731285e+01   \n",
       "25%    1.025000e+03  3.620000e+02    2.700000e+01          3.777331e+01   \n",
       "50%    2.043000e+03  5.700000e+02    7.500000e+01          3.778240e+01   \n",
       "75%    2.907000e+03  8.950000e+02    1.630000e+02          3.779539e+01   \n",
       "max    4.307000e+03  8.636900e+04    3.560000e+02          4.551000e+01   \n",
       "\n",
       "       end_station_longitude  member_birth_year  start_station_id  \\\n",
       "count           1.338864e+06       1.213626e+06      1.336803e+06   \n",
       "mean           -1.223558e+02       1.981468e+03      1.060832e+02   \n",
       "std             1.557933e-01       1.056388e+01      9.194348e+01   \n",
       "min            -1.224443e+02       1.886000e+03      3.000000e+00   \n",
       "25%            -1.224107e+02       1.976000e+03      2.800000e+01   \n",
       "50%            -1.223974e+02       1.984000e+03      7.800000e+01   \n",
       "75%            -1.223903e+02       1.989000e+03      1.670000e+02   \n",
       "max            -7.357000e+01       2.000000e+03      3.560000e+02   \n",
       "\n",
       "       start_station_latitude  start_station_longitude  \n",
       "count            1.338864e+06             1.338864e+06  \n",
       "mean             3.776906e+01            -1.223565e+02  \n",
       "std              9.689138e-02             1.561779e-01  \n",
       "min              3.731285e+01            -1.224443e+02  \n",
       "25%              3.777241e+01            -1.224117e+02  \n",
       "50%              3.778175e+01            -1.223985e+02  \n",
       "75%              3.779539e+01            -1.223898e+02  \n",
       "max              4.551000e+01            -7.357000e+01  "
      ]
     },
     "execution_count": 11,
     "metadata": {},
     "output_type": "execute_result"
    }
   ],
   "source": [
    "df_bike_share.describe()"
   ]
  },
  {
   "cell_type": "code",
   "execution_count": 12,
   "metadata": {},
   "outputs": [
    {
     "data": {
      "text/plain": [
       "1952.0"
      ]
     },
     "execution_count": 12,
     "metadata": {},
     "output_type": "execute_result"
    }
   ],
   "source": [
    "df_bike_share['duration_sec'].quantile(0.95)"
   ]
  },
  {
   "cell_type": "code",
   "execution_count": 13,
   "metadata": {},
   "outputs": [
    {
     "data": {
      "text/plain": [
       "(66939, 16)"
      ]
     },
     "execution_count": 13,
     "metadata": {},
     "output_type": "execute_result"
    }
   ],
   "source": [
    "df_test =  df_bike_share[df_bike_share['duration_sec'] >  df_bike_share['duration_sec'].quantile(0.95)]\n",
    "df_test.shape"
   ]
  },
  {
   "cell_type": "code",
   "execution_count": 14,
   "metadata": {},
   "outputs": [
    {
     "data": {
      "text/plain": [
       "0"
      ]
     },
     "execution_count": 14,
     "metadata": {},
     "output_type": "execute_result"
    }
   ],
   "source": [
    "df_bike_share.duplicated().sum()"
   ]
  },
  {
   "cell_type": "markdown",
   "metadata": {},
   "source": [
    "### Quality Issues"
   ]
  },
  {
   "cell_type": "markdown",
   "metadata": {},
   "source": [
    "* duration_sec field is of type float instead of int\n",
    "* start_time and end_time fields are of type object instead of timestamp\n",
    "* start_station_id and end_station_id fields are of type int instead of string\n",
    "* bike_id field is of type int instead of string\n",
    "* user_type field is of type object instead of category\n",
    "* member_birth_year field is of type float instead of int\n",
    "* member_gender field is of type object instead of category\n",
    "* missing data in member_birth_year and member_gender fields\n",
    "\n"
   ]
  },
  {
   "cell_type": "markdown",
   "metadata": {},
   "source": [
    "## Cleaning Data"
   ]
  },
  {
   "cell_type": "markdown",
   "metadata": {},
   "source": [
    "Taking a copy of dataframe and performing cleaning operations on them"
   ]
  },
  {
   "cell_type": "code",
   "execution_count": 15,
   "metadata": {},
   "outputs": [],
   "source": [
    "df_bike_share_copy = df_bike_share.copy(deep=False)"
   ]
  },
  {
   "cell_type": "code",
   "execution_count": 16,
   "metadata": {},
   "outputs": [
    {
     "data": {
      "text/html": [
       "<div>\n",
       "<style>\n",
       "    .dataframe thead tr:only-child th {\n",
       "        text-align: right;\n",
       "    }\n",
       "\n",
       "    .dataframe thead th {\n",
       "        text-align: left;\n",
       "    }\n",
       "\n",
       "    .dataframe tbody tr th {\n",
       "        vertical-align: top;\n",
       "    }\n",
       "</style>\n",
       "<table border=\"1\" class=\"dataframe\">\n",
       "  <thead>\n",
       "    <tr style=\"text-align: right;\">\n",
       "      <th></th>\n",
       "      <th>bike_id</th>\n",
       "      <th>bike_share_for_all_trip</th>\n",
       "      <th>duration_sec</th>\n",
       "      <th>end_station_id</th>\n",
       "      <th>end_station_latitude</th>\n",
       "      <th>end_station_longitude</th>\n",
       "      <th>end_station_name</th>\n",
       "      <th>end_time</th>\n",
       "      <th>member_birth_year</th>\n",
       "      <th>member_gender</th>\n",
       "      <th>start_station_id</th>\n",
       "      <th>start_station_latitude</th>\n",
       "      <th>start_station_longitude</th>\n",
       "      <th>start_station_name</th>\n",
       "      <th>start_time</th>\n",
       "      <th>user_type</th>\n",
       "    </tr>\n",
       "  </thead>\n",
       "  <tbody>\n",
       "    <tr>\n",
       "      <th>0</th>\n",
       "      <td>96</td>\n",
       "      <td>NaN</td>\n",
       "      <td>80110</td>\n",
       "      <td>43.0</td>\n",
       "      <td>37.778768</td>\n",
       "      <td>-122.415929</td>\n",
       "      <td>San Francisco Public Library (Grove St at Hyde...</td>\n",
       "      <td>2018-01-01 15:12:50.2450</td>\n",
       "      <td>1987.0</td>\n",
       "      <td>Male</td>\n",
       "      <td>74.0</td>\n",
       "      <td>37.776435</td>\n",
       "      <td>-122.426244</td>\n",
       "      <td>Laguna St at Hayes St</td>\n",
       "      <td>2017-12-31 16:57:39.6540</td>\n",
       "      <td>Customer</td>\n",
       "    </tr>\n",
       "    <tr>\n",
       "      <th>1</th>\n",
       "      <td>88</td>\n",
       "      <td>NaN</td>\n",
       "      <td>78800</td>\n",
       "      <td>96.0</td>\n",
       "      <td>37.766210</td>\n",
       "      <td>-122.426614</td>\n",
       "      <td>Dolores St at 15th St</td>\n",
       "      <td>2018-01-01 13:49:55.6170</td>\n",
       "      <td>1965.0</td>\n",
       "      <td>Female</td>\n",
       "      <td>284.0</td>\n",
       "      <td>37.784872</td>\n",
       "      <td>-122.400876</td>\n",
       "      <td>Yerba Buena Center for the Arts (Howard St at ...</td>\n",
       "      <td>2017-12-31 15:56:34.8420</td>\n",
       "      <td>Customer</td>\n",
       "    </tr>\n",
       "    <tr>\n",
       "      <th>2</th>\n",
       "      <td>1094</td>\n",
       "      <td>NaN</td>\n",
       "      <td>45768</td>\n",
       "      <td>245.0</td>\n",
       "      <td>37.870348</td>\n",
       "      <td>-122.267764</td>\n",
       "      <td>Downtown Berkeley BART</td>\n",
       "      <td>2018-01-01 11:28:36.8830</td>\n",
       "      <td>NaN</td>\n",
       "      <td>NaN</td>\n",
       "      <td>245.0</td>\n",
       "      <td>37.870348</td>\n",
       "      <td>-122.267764</td>\n",
       "      <td>Downtown Berkeley BART</td>\n",
       "      <td>2017-12-31 22:45:48.4110</td>\n",
       "      <td>Customer</td>\n",
       "    </tr>\n",
       "    <tr>\n",
       "      <th>3</th>\n",
       "      <td>2831</td>\n",
       "      <td>NaN</td>\n",
       "      <td>62172</td>\n",
       "      <td>5.0</td>\n",
       "      <td>37.783899</td>\n",
       "      <td>-122.408445</td>\n",
       "      <td>Powell St BART Station (Market St at 5th St)</td>\n",
       "      <td>2018-01-01 10:47:23.5310</td>\n",
       "      <td>NaN</td>\n",
       "      <td>NaN</td>\n",
       "      <td>60.0</td>\n",
       "      <td>37.774520</td>\n",
       "      <td>-122.409449</td>\n",
       "      <td>8th St at Ringold St</td>\n",
       "      <td>2017-12-31 17:31:10.6360</td>\n",
       "      <td>Customer</td>\n",
       "    </tr>\n",
       "    <tr>\n",
       "      <th>4</th>\n",
       "      <td>3167</td>\n",
       "      <td>NaN</td>\n",
       "      <td>43603</td>\n",
       "      <td>247.0</td>\n",
       "      <td>37.867789</td>\n",
       "      <td>-122.265896</td>\n",
       "      <td>Fulton St at Bancroft Way</td>\n",
       "      <td>2018-01-01 02:29:57.5710</td>\n",
       "      <td>1997.0</td>\n",
       "      <td>Female</td>\n",
       "      <td>239.0</td>\n",
       "      <td>37.868813</td>\n",
       "      <td>-122.258764</td>\n",
       "      <td>Bancroft Way at Telegraph Ave</td>\n",
       "      <td>2017-12-31 14:23:14.0010</td>\n",
       "      <td>Subscriber</td>\n",
       "    </tr>\n",
       "  </tbody>\n",
       "</table>\n",
       "</div>"
      ],
      "text/plain": [
       "   bike_id bike_share_for_all_trip  duration_sec  end_station_id  \\\n",
       "0       96                     NaN         80110            43.0   \n",
       "1       88                     NaN         78800            96.0   \n",
       "2     1094                     NaN         45768           245.0   \n",
       "3     2831                     NaN         62172             5.0   \n",
       "4     3167                     NaN         43603           247.0   \n",
       "\n",
       "   end_station_latitude  end_station_longitude  \\\n",
       "0             37.778768            -122.415929   \n",
       "1             37.766210            -122.426614   \n",
       "2             37.870348            -122.267764   \n",
       "3             37.783899            -122.408445   \n",
       "4             37.867789            -122.265896   \n",
       "\n",
       "                                    end_station_name  \\\n",
       "0  San Francisco Public Library (Grove St at Hyde...   \n",
       "1                              Dolores St at 15th St   \n",
       "2                             Downtown Berkeley BART   \n",
       "3       Powell St BART Station (Market St at 5th St)   \n",
       "4                          Fulton St at Bancroft Way   \n",
       "\n",
       "                   end_time  member_birth_year member_gender  \\\n",
       "0  2018-01-01 15:12:50.2450             1987.0          Male   \n",
       "1  2018-01-01 13:49:55.6170             1965.0        Female   \n",
       "2  2018-01-01 11:28:36.8830                NaN           NaN   \n",
       "3  2018-01-01 10:47:23.5310                NaN           NaN   \n",
       "4  2018-01-01 02:29:57.5710             1997.0        Female   \n",
       "\n",
       "   start_station_id  start_station_latitude  start_station_longitude  \\\n",
       "0              74.0               37.776435              -122.426244   \n",
       "1             284.0               37.784872              -122.400876   \n",
       "2             245.0               37.870348              -122.267764   \n",
       "3              60.0               37.774520              -122.409449   \n",
       "4             239.0               37.868813              -122.258764   \n",
       "\n",
       "                                  start_station_name  \\\n",
       "0                              Laguna St at Hayes St   \n",
       "1  Yerba Buena Center for the Arts (Howard St at ...   \n",
       "2                             Downtown Berkeley BART   \n",
       "3                               8th St at Ringold St   \n",
       "4                      Bancroft Way at Telegraph Ave   \n",
       "\n",
       "                 start_time   user_type  \n",
       "0  2017-12-31 16:57:39.6540    Customer  \n",
       "1  2017-12-31 15:56:34.8420    Customer  \n",
       "2  2017-12-31 22:45:48.4110    Customer  \n",
       "3  2017-12-31 17:31:10.6360    Customer  \n",
       "4  2017-12-31 14:23:14.0010  Subscriber  "
      ]
     },
     "execution_count": 16,
     "metadata": {},
     "output_type": "execute_result"
    }
   ],
   "source": [
    "df_bike_share_copy.head()"
   ]
  },
  {
   "cell_type": "markdown",
   "metadata": {},
   "source": [
    "### Define"
   ]
  },
  {
   "cell_type": "markdown",
   "metadata": {},
   "source": [
    "Drop rows with missing data in member_birth_year and member_gender and reset the index"
   ]
  },
  {
   "cell_type": "markdown",
   "metadata": {},
   "source": [
    "### Code"
   ]
  },
  {
   "cell_type": "code",
   "execution_count": 17,
   "metadata": {},
   "outputs": [],
   "source": [
    "df_bike_share_copy = df_bike_share_copy.dropna(axis=0, subset=['member_birth_year'])"
   ]
  },
  {
   "cell_type": "code",
   "execution_count": 18,
   "metadata": {},
   "outputs": [
    {
     "data": {
      "text/html": [
       "<div>\n",
       "<style>\n",
       "    .dataframe thead tr:only-child th {\n",
       "        text-align: right;\n",
       "    }\n",
       "\n",
       "    .dataframe thead th {\n",
       "        text-align: left;\n",
       "    }\n",
       "\n",
       "    .dataframe tbody tr th {\n",
       "        vertical-align: top;\n",
       "    }\n",
       "</style>\n",
       "<table border=\"1\" class=\"dataframe\">\n",
       "  <thead>\n",
       "    <tr style=\"text-align: right;\">\n",
       "      <th></th>\n",
       "      <th>bike_id</th>\n",
       "      <th>bike_share_for_all_trip</th>\n",
       "      <th>duration_sec</th>\n",
       "      <th>end_station_id</th>\n",
       "      <th>end_station_latitude</th>\n",
       "      <th>end_station_longitude</th>\n",
       "      <th>end_station_name</th>\n",
       "      <th>end_time</th>\n",
       "      <th>member_birth_year</th>\n",
       "      <th>member_gender</th>\n",
       "      <th>start_station_id</th>\n",
       "      <th>start_station_latitude</th>\n",
       "      <th>start_station_longitude</th>\n",
       "      <th>start_station_name</th>\n",
       "      <th>start_time</th>\n",
       "      <th>user_type</th>\n",
       "    </tr>\n",
       "  </thead>\n",
       "  <tbody>\n",
       "    <tr>\n",
       "      <th>0</th>\n",
       "      <td>96</td>\n",
       "      <td>NaN</td>\n",
       "      <td>80110</td>\n",
       "      <td>43.0</td>\n",
       "      <td>37.778768</td>\n",
       "      <td>-122.415929</td>\n",
       "      <td>San Francisco Public Library (Grove St at Hyde...</td>\n",
       "      <td>2018-01-01 15:12:50.2450</td>\n",
       "      <td>1987.0</td>\n",
       "      <td>Male</td>\n",
       "      <td>74.0</td>\n",
       "      <td>37.776435</td>\n",
       "      <td>-122.426244</td>\n",
       "      <td>Laguna St at Hayes St</td>\n",
       "      <td>2017-12-31 16:57:39.6540</td>\n",
       "      <td>Customer</td>\n",
       "    </tr>\n",
       "    <tr>\n",
       "      <th>1</th>\n",
       "      <td>88</td>\n",
       "      <td>NaN</td>\n",
       "      <td>78800</td>\n",
       "      <td>96.0</td>\n",
       "      <td>37.766210</td>\n",
       "      <td>-122.426614</td>\n",
       "      <td>Dolores St at 15th St</td>\n",
       "      <td>2018-01-01 13:49:55.6170</td>\n",
       "      <td>1965.0</td>\n",
       "      <td>Female</td>\n",
       "      <td>284.0</td>\n",
       "      <td>37.784872</td>\n",
       "      <td>-122.400876</td>\n",
       "      <td>Yerba Buena Center for the Arts (Howard St at ...</td>\n",
       "      <td>2017-12-31 15:56:34.8420</td>\n",
       "      <td>Customer</td>\n",
       "    </tr>\n",
       "    <tr>\n",
       "      <th>4</th>\n",
       "      <td>3167</td>\n",
       "      <td>NaN</td>\n",
       "      <td>43603</td>\n",
       "      <td>247.0</td>\n",
       "      <td>37.867789</td>\n",
       "      <td>-122.265896</td>\n",
       "      <td>Fulton St at Bancroft Way</td>\n",
       "      <td>2018-01-01 02:29:57.5710</td>\n",
       "      <td>1997.0</td>\n",
       "      <td>Female</td>\n",
       "      <td>239.0</td>\n",
       "      <td>37.868813</td>\n",
       "      <td>-122.258764</td>\n",
       "      <td>Bancroft Way at Telegraph Ave</td>\n",
       "      <td>2017-12-31 14:23:14.0010</td>\n",
       "      <td>Subscriber</td>\n",
       "    </tr>\n",
       "    <tr>\n",
       "      <th>6</th>\n",
       "      <td>3539</td>\n",
       "      <td>NaN</td>\n",
       "      <td>4507</td>\n",
       "      <td>259.0</td>\n",
       "      <td>37.866249</td>\n",
       "      <td>-122.299371</td>\n",
       "      <td>Addison St at Fourth St</td>\n",
       "      <td>2018-01-01 01:04:35.6190</td>\n",
       "      <td>1991.0</td>\n",
       "      <td>Female</td>\n",
       "      <td>259.0</td>\n",
       "      <td>37.866249</td>\n",
       "      <td>-122.299371</td>\n",
       "      <td>Addison St at Fourth St</td>\n",
       "      <td>2017-12-31 23:49:28.4220</td>\n",
       "      <td>Customer</td>\n",
       "    </tr>\n",
       "    <tr>\n",
       "      <th>12</th>\n",
       "      <td>2311</td>\n",
       "      <td>NaN</td>\n",
       "      <td>2183</td>\n",
       "      <td>24.0</td>\n",
       "      <td>37.789677</td>\n",
       "      <td>-122.390428</td>\n",
       "      <td>Spear St at Folsom St</td>\n",
       "      <td>2018-01-01 00:29:18.7430</td>\n",
       "      <td>1990.0</td>\n",
       "      <td>Male</td>\n",
       "      <td>67.0</td>\n",
       "      <td>37.776639</td>\n",
       "      <td>-122.395526</td>\n",
       "      <td>San Francisco Caltrain Station 2  (Townsend St...</td>\n",
       "      <td>2017-12-31 23:52:55.5810</td>\n",
       "      <td>Subscriber</td>\n",
       "    </tr>\n",
       "  </tbody>\n",
       "</table>\n",
       "</div>"
      ],
      "text/plain": [
       "    bike_id bike_share_for_all_trip  duration_sec  end_station_id  \\\n",
       "0        96                     NaN         80110            43.0   \n",
       "1        88                     NaN         78800            96.0   \n",
       "4      3167                     NaN         43603           247.0   \n",
       "6      3539                     NaN          4507           259.0   \n",
       "12     2311                     NaN          2183            24.0   \n",
       "\n",
       "    end_station_latitude  end_station_longitude  \\\n",
       "0              37.778768            -122.415929   \n",
       "1              37.766210            -122.426614   \n",
       "4              37.867789            -122.265896   \n",
       "6              37.866249            -122.299371   \n",
       "12             37.789677            -122.390428   \n",
       "\n",
       "                                     end_station_name  \\\n",
       "0   San Francisco Public Library (Grove St at Hyde...   \n",
       "1                               Dolores St at 15th St   \n",
       "4                           Fulton St at Bancroft Way   \n",
       "6                             Addison St at Fourth St   \n",
       "12                              Spear St at Folsom St   \n",
       "\n",
       "                    end_time  member_birth_year member_gender  \\\n",
       "0   2018-01-01 15:12:50.2450             1987.0          Male   \n",
       "1   2018-01-01 13:49:55.6170             1965.0        Female   \n",
       "4   2018-01-01 02:29:57.5710             1997.0        Female   \n",
       "6   2018-01-01 01:04:35.6190             1991.0        Female   \n",
       "12  2018-01-01 00:29:18.7430             1990.0          Male   \n",
       "\n",
       "    start_station_id  start_station_latitude  start_station_longitude  \\\n",
       "0               74.0               37.776435              -122.426244   \n",
       "1              284.0               37.784872              -122.400876   \n",
       "4              239.0               37.868813              -122.258764   \n",
       "6              259.0               37.866249              -122.299371   \n",
       "12              67.0               37.776639              -122.395526   \n",
       "\n",
       "                                   start_station_name  \\\n",
       "0                               Laguna St at Hayes St   \n",
       "1   Yerba Buena Center for the Arts (Howard St at ...   \n",
       "4                       Bancroft Way at Telegraph Ave   \n",
       "6                             Addison St at Fourth St   \n",
       "12  San Francisco Caltrain Station 2  (Townsend St...   \n",
       "\n",
       "                  start_time   user_type  \n",
       "0   2017-12-31 16:57:39.6540    Customer  \n",
       "1   2017-12-31 15:56:34.8420    Customer  \n",
       "4   2017-12-31 14:23:14.0010  Subscriber  \n",
       "6   2017-12-31 23:49:28.4220    Customer  \n",
       "12  2017-12-31 23:52:55.5810  Subscriber  "
      ]
     },
     "execution_count": 18,
     "metadata": {},
     "output_type": "execute_result"
    }
   ],
   "source": [
    "df_bike_share_copy.head()"
   ]
  },
  {
   "cell_type": "code",
   "execution_count": 19,
   "metadata": {},
   "outputs": [],
   "source": [
    "df_bike_share_copy.reset_index(inplace=True, drop=True)"
   ]
  },
  {
   "cell_type": "code",
   "execution_count": 20,
   "metadata": {},
   "outputs": [
    {
     "data": {
      "text/html": [
       "<div>\n",
       "<style>\n",
       "    .dataframe thead tr:only-child th {\n",
       "        text-align: right;\n",
       "    }\n",
       "\n",
       "    .dataframe thead th {\n",
       "        text-align: left;\n",
       "    }\n",
       "\n",
       "    .dataframe tbody tr th {\n",
       "        vertical-align: top;\n",
       "    }\n",
       "</style>\n",
       "<table border=\"1\" class=\"dataframe\">\n",
       "  <thead>\n",
       "    <tr style=\"text-align: right;\">\n",
       "      <th></th>\n",
       "      <th>bike_id</th>\n",
       "      <th>bike_share_for_all_trip</th>\n",
       "      <th>duration_sec</th>\n",
       "      <th>end_station_id</th>\n",
       "      <th>end_station_latitude</th>\n",
       "      <th>end_station_longitude</th>\n",
       "      <th>end_station_name</th>\n",
       "      <th>end_time</th>\n",
       "      <th>member_birth_year</th>\n",
       "      <th>member_gender</th>\n",
       "      <th>start_station_id</th>\n",
       "      <th>start_station_latitude</th>\n",
       "      <th>start_station_longitude</th>\n",
       "      <th>start_station_name</th>\n",
       "      <th>start_time</th>\n",
       "      <th>user_type</th>\n",
       "    </tr>\n",
       "  </thead>\n",
       "  <tbody>\n",
       "    <tr>\n",
       "      <th>0</th>\n",
       "      <td>96</td>\n",
       "      <td>NaN</td>\n",
       "      <td>80110</td>\n",
       "      <td>43.0</td>\n",
       "      <td>37.778768</td>\n",
       "      <td>-122.415929</td>\n",
       "      <td>San Francisco Public Library (Grove St at Hyde...</td>\n",
       "      <td>2018-01-01 15:12:50.2450</td>\n",
       "      <td>1987.0</td>\n",
       "      <td>Male</td>\n",
       "      <td>74.0</td>\n",
       "      <td>37.776435</td>\n",
       "      <td>-122.426244</td>\n",
       "      <td>Laguna St at Hayes St</td>\n",
       "      <td>2017-12-31 16:57:39.6540</td>\n",
       "      <td>Customer</td>\n",
       "    </tr>\n",
       "    <tr>\n",
       "      <th>1</th>\n",
       "      <td>88</td>\n",
       "      <td>NaN</td>\n",
       "      <td>78800</td>\n",
       "      <td>96.0</td>\n",
       "      <td>37.766210</td>\n",
       "      <td>-122.426614</td>\n",
       "      <td>Dolores St at 15th St</td>\n",
       "      <td>2018-01-01 13:49:55.6170</td>\n",
       "      <td>1965.0</td>\n",
       "      <td>Female</td>\n",
       "      <td>284.0</td>\n",
       "      <td>37.784872</td>\n",
       "      <td>-122.400876</td>\n",
       "      <td>Yerba Buena Center for the Arts (Howard St at ...</td>\n",
       "      <td>2017-12-31 15:56:34.8420</td>\n",
       "      <td>Customer</td>\n",
       "    </tr>\n",
       "    <tr>\n",
       "      <th>2</th>\n",
       "      <td>3167</td>\n",
       "      <td>NaN</td>\n",
       "      <td>43603</td>\n",
       "      <td>247.0</td>\n",
       "      <td>37.867789</td>\n",
       "      <td>-122.265896</td>\n",
       "      <td>Fulton St at Bancroft Way</td>\n",
       "      <td>2018-01-01 02:29:57.5710</td>\n",
       "      <td>1997.0</td>\n",
       "      <td>Female</td>\n",
       "      <td>239.0</td>\n",
       "      <td>37.868813</td>\n",
       "      <td>-122.258764</td>\n",
       "      <td>Bancroft Way at Telegraph Ave</td>\n",
       "      <td>2017-12-31 14:23:14.0010</td>\n",
       "      <td>Subscriber</td>\n",
       "    </tr>\n",
       "    <tr>\n",
       "      <th>3</th>\n",
       "      <td>3539</td>\n",
       "      <td>NaN</td>\n",
       "      <td>4507</td>\n",
       "      <td>259.0</td>\n",
       "      <td>37.866249</td>\n",
       "      <td>-122.299371</td>\n",
       "      <td>Addison St at Fourth St</td>\n",
       "      <td>2018-01-01 01:04:35.6190</td>\n",
       "      <td>1991.0</td>\n",
       "      <td>Female</td>\n",
       "      <td>259.0</td>\n",
       "      <td>37.866249</td>\n",
       "      <td>-122.299371</td>\n",
       "      <td>Addison St at Fourth St</td>\n",
       "      <td>2017-12-31 23:49:28.4220</td>\n",
       "      <td>Customer</td>\n",
       "    </tr>\n",
       "    <tr>\n",
       "      <th>4</th>\n",
       "      <td>2311</td>\n",
       "      <td>NaN</td>\n",
       "      <td>2183</td>\n",
       "      <td>24.0</td>\n",
       "      <td>37.789677</td>\n",
       "      <td>-122.390428</td>\n",
       "      <td>Spear St at Folsom St</td>\n",
       "      <td>2018-01-01 00:29:18.7430</td>\n",
       "      <td>1990.0</td>\n",
       "      <td>Male</td>\n",
       "      <td>67.0</td>\n",
       "      <td>37.776639</td>\n",
       "      <td>-122.395526</td>\n",
       "      <td>San Francisco Caltrain Station 2  (Townsend St...</td>\n",
       "      <td>2017-12-31 23:52:55.5810</td>\n",
       "      <td>Subscriber</td>\n",
       "    </tr>\n",
       "  </tbody>\n",
       "</table>\n",
       "</div>"
      ],
      "text/plain": [
       "   bike_id bike_share_for_all_trip  duration_sec  end_station_id  \\\n",
       "0       96                     NaN         80110            43.0   \n",
       "1       88                     NaN         78800            96.0   \n",
       "2     3167                     NaN         43603           247.0   \n",
       "3     3539                     NaN          4507           259.0   \n",
       "4     2311                     NaN          2183            24.0   \n",
       "\n",
       "   end_station_latitude  end_station_longitude  \\\n",
       "0             37.778768            -122.415929   \n",
       "1             37.766210            -122.426614   \n",
       "2             37.867789            -122.265896   \n",
       "3             37.866249            -122.299371   \n",
       "4             37.789677            -122.390428   \n",
       "\n",
       "                                    end_station_name  \\\n",
       "0  San Francisco Public Library (Grove St at Hyde...   \n",
       "1                              Dolores St at 15th St   \n",
       "2                          Fulton St at Bancroft Way   \n",
       "3                            Addison St at Fourth St   \n",
       "4                              Spear St at Folsom St   \n",
       "\n",
       "                   end_time  member_birth_year member_gender  \\\n",
       "0  2018-01-01 15:12:50.2450             1987.0          Male   \n",
       "1  2018-01-01 13:49:55.6170             1965.0        Female   \n",
       "2  2018-01-01 02:29:57.5710             1997.0        Female   \n",
       "3  2018-01-01 01:04:35.6190             1991.0        Female   \n",
       "4  2018-01-01 00:29:18.7430             1990.0          Male   \n",
       "\n",
       "   start_station_id  start_station_latitude  start_station_longitude  \\\n",
       "0              74.0               37.776435              -122.426244   \n",
       "1             284.0               37.784872              -122.400876   \n",
       "2             239.0               37.868813              -122.258764   \n",
       "3             259.0               37.866249              -122.299371   \n",
       "4              67.0               37.776639              -122.395526   \n",
       "\n",
       "                                  start_station_name  \\\n",
       "0                              Laguna St at Hayes St   \n",
       "1  Yerba Buena Center for the Arts (Howard St at ...   \n",
       "2                      Bancroft Way at Telegraph Ave   \n",
       "3                            Addison St at Fourth St   \n",
       "4  San Francisco Caltrain Station 2  (Townsend St...   \n",
       "\n",
       "                 start_time   user_type  \n",
       "0  2017-12-31 16:57:39.6540    Customer  \n",
       "1  2017-12-31 15:56:34.8420    Customer  \n",
       "2  2017-12-31 14:23:14.0010  Subscriber  \n",
       "3  2017-12-31 23:49:28.4220    Customer  \n",
       "4  2017-12-31 23:52:55.5810  Subscriber  "
      ]
     },
     "execution_count": 20,
     "metadata": {},
     "output_type": "execute_result"
    }
   ],
   "source": [
    "df_bike_share_copy.head()"
   ]
  },
  {
   "cell_type": "markdown",
   "metadata": {},
   "source": [
    "### Test"
   ]
  },
  {
   "cell_type": "code",
   "execution_count": 21,
   "metadata": {},
   "outputs": [
    {
     "name": "stdout",
     "output_type": "stream",
     "text": [
      "<class 'pandas.core.frame.DataFrame'>\n",
      "RangeIndex: 1213626 entries, 0 to 1213625\n",
      "Data columns (total 16 columns):\n",
      "bike_id                    1213626 non-null int64\n",
      "bike_share_for_all_trip    760467 non-null object\n",
      "duration_sec               1213626 non-null int64\n",
      "end_station_id             1211667 non-null float64\n",
      "end_station_latitude       1213626 non-null float64\n",
      "end_station_longitude      1213626 non-null float64\n",
      "end_station_name           1211667 non-null object\n",
      "end_time                   1213626 non-null object\n",
      "member_birth_year          1213626 non-null float64\n",
      "member_gender              1213626 non-null object\n",
      "start_station_id           1211667 non-null float64\n",
      "start_station_latitude     1213626 non-null float64\n",
      "start_station_longitude    1213626 non-null float64\n",
      "start_station_name         1211667 non-null object\n",
      "start_time                 1213626 non-null object\n",
      "user_type                  1213626 non-null object\n",
      "dtypes: float64(7), int64(2), object(7)\n",
      "memory usage: 148.1+ MB\n"
     ]
    }
   ],
   "source": [
    "df_bike_share_copy.info()"
   ]
  },
  {
   "cell_type": "code",
   "execution_count": 22,
   "metadata": {},
   "outputs": [
    {
     "data": {
      "text/html": [
       "<div>\n",
       "<style>\n",
       "    .dataframe thead tr:only-child th {\n",
       "        text-align: right;\n",
       "    }\n",
       "\n",
       "    .dataframe thead th {\n",
       "        text-align: left;\n",
       "    }\n",
       "\n",
       "    .dataframe tbody tr th {\n",
       "        vertical-align: top;\n",
       "    }\n",
       "</style>\n",
       "<table border=\"1\" class=\"dataframe\">\n",
       "  <thead>\n",
       "    <tr style=\"text-align: right;\">\n",
       "      <th></th>\n",
       "      <th>bike_id</th>\n",
       "      <th>bike_share_for_all_trip</th>\n",
       "      <th>duration_sec</th>\n",
       "      <th>end_station_id</th>\n",
       "      <th>end_station_latitude</th>\n",
       "      <th>end_station_longitude</th>\n",
       "      <th>end_station_name</th>\n",
       "      <th>end_time</th>\n",
       "      <th>member_birth_year</th>\n",
       "      <th>member_gender</th>\n",
       "      <th>start_station_id</th>\n",
       "      <th>start_station_latitude</th>\n",
       "      <th>start_station_longitude</th>\n",
       "      <th>start_station_name</th>\n",
       "      <th>start_time</th>\n",
       "      <th>user_type</th>\n",
       "    </tr>\n",
       "  </thead>\n",
       "  <tbody>\n",
       "    <tr>\n",
       "      <th>1213621</th>\n",
       "      <td>3848</td>\n",
       "      <td>No</td>\n",
       "      <td>491</td>\n",
       "      <td>113.0</td>\n",
       "      <td>37.764555</td>\n",
       "      <td>-122.410345</td>\n",
       "      <td>Franklin Square</td>\n",
       "      <td>2018-06-01 00:11:24.1070</td>\n",
       "      <td>1965.0</td>\n",
       "      <td>Male</td>\n",
       "      <td>41.0</td>\n",
       "      <td>37.781270</td>\n",
       "      <td>-122.418740</td>\n",
       "      <td>Golden Gate Ave at Polk St</td>\n",
       "      <td>2018-06-01 00:03:12.2280</td>\n",
       "      <td>Subscriber</td>\n",
       "    </tr>\n",
       "    <tr>\n",
       "      <th>1213622</th>\n",
       "      <td>4036</td>\n",
       "      <td>No</td>\n",
       "      <td>507</td>\n",
       "      <td>141.0</td>\n",
       "      <td>37.747998</td>\n",
       "      <td>-122.420219</td>\n",
       "      <td>Valencia St at Cesar Chavez St</td>\n",
       "      <td>2018-06-01 00:10:55.6850</td>\n",
       "      <td>1972.0</td>\n",
       "      <td>Male</td>\n",
       "      <td>118.0</td>\n",
       "      <td>37.759177</td>\n",
       "      <td>-122.436943</td>\n",
       "      <td>Eureka Valley Recreation Center</td>\n",
       "      <td>2018-06-01 00:02:28.3230</td>\n",
       "      <td>Subscriber</td>\n",
       "    </tr>\n",
       "    <tr>\n",
       "      <th>1213623</th>\n",
       "      <td>1242</td>\n",
       "      <td>No</td>\n",
       "      <td>377</td>\n",
       "      <td>195.0</td>\n",
       "      <td>37.812314</td>\n",
       "      <td>-122.260779</td>\n",
       "      <td>Bay Pl at Vernon St</td>\n",
       "      <td>2018-06-01 00:10:27.6620</td>\n",
       "      <td>1976.0</td>\n",
       "      <td>Male</td>\n",
       "      <td>186.0</td>\n",
       "      <td>37.801319</td>\n",
       "      <td>-122.262642</td>\n",
       "      <td>Lakeside Dr at 14th St</td>\n",
       "      <td>2018-06-01 00:04:10.0830</td>\n",
       "      <td>Subscriber</td>\n",
       "    </tr>\n",
       "    <tr>\n",
       "      <th>1213624</th>\n",
       "      <td>3800</td>\n",
       "      <td>No</td>\n",
       "      <td>391</td>\n",
       "      <td>27.0</td>\n",
       "      <td>37.788059</td>\n",
       "      <td>-122.391865</td>\n",
       "      <td>Beale St at Harrison St</td>\n",
       "      <td>2018-06-01 00:10:08.9190</td>\n",
       "      <td>1976.0</td>\n",
       "      <td>Male</td>\n",
       "      <td>30.0</td>\n",
       "      <td>37.776598</td>\n",
       "      <td>-122.395282</td>\n",
       "      <td>San Francisco Caltrain (Townsend St at 4th St)</td>\n",
       "      <td>2018-06-01 00:03:37.7150</td>\n",
       "      <td>Subscriber</td>\n",
       "    </tr>\n",
       "    <tr>\n",
       "      <th>1213625</th>\n",
       "      <td>1607</td>\n",
       "      <td>No</td>\n",
       "      <td>283</td>\n",
       "      <td>81.0</td>\n",
       "      <td>37.775880</td>\n",
       "      <td>-122.393170</td>\n",
       "      <td>Berry St at 4th St</td>\n",
       "      <td>2018-06-01 00:07:21.1330</td>\n",
       "      <td>1987.0</td>\n",
       "      <td>Male</td>\n",
       "      <td>36.0</td>\n",
       "      <td>37.783830</td>\n",
       "      <td>-122.398870</td>\n",
       "      <td>Folsom St at 3rd St</td>\n",
       "      <td>2018-06-01 00:02:37.3310</td>\n",
       "      <td>Subscriber</td>\n",
       "    </tr>\n",
       "  </tbody>\n",
       "</table>\n",
       "</div>"
      ],
      "text/plain": [
       "         bike_id bike_share_for_all_trip  duration_sec  end_station_id  \\\n",
       "1213621     3848                      No           491           113.0   \n",
       "1213622     4036                      No           507           141.0   \n",
       "1213623     1242                      No           377           195.0   \n",
       "1213624     3800                      No           391            27.0   \n",
       "1213625     1607                      No           283            81.0   \n",
       "\n",
       "         end_station_latitude  end_station_longitude  \\\n",
       "1213621             37.764555            -122.410345   \n",
       "1213622             37.747998            -122.420219   \n",
       "1213623             37.812314            -122.260779   \n",
       "1213624             37.788059            -122.391865   \n",
       "1213625             37.775880            -122.393170   \n",
       "\n",
       "                       end_station_name                  end_time  \\\n",
       "1213621                 Franklin Square  2018-06-01 00:11:24.1070   \n",
       "1213622  Valencia St at Cesar Chavez St  2018-06-01 00:10:55.6850   \n",
       "1213623             Bay Pl at Vernon St  2018-06-01 00:10:27.6620   \n",
       "1213624         Beale St at Harrison St  2018-06-01 00:10:08.9190   \n",
       "1213625              Berry St at 4th St  2018-06-01 00:07:21.1330   \n",
       "\n",
       "         member_birth_year member_gender  start_station_id  \\\n",
       "1213621             1965.0          Male              41.0   \n",
       "1213622             1972.0          Male             118.0   \n",
       "1213623             1976.0          Male             186.0   \n",
       "1213624             1976.0          Male              30.0   \n",
       "1213625             1987.0          Male              36.0   \n",
       "\n",
       "         start_station_latitude  start_station_longitude  \\\n",
       "1213621               37.781270              -122.418740   \n",
       "1213622               37.759177              -122.436943   \n",
       "1213623               37.801319              -122.262642   \n",
       "1213624               37.776598              -122.395282   \n",
       "1213625               37.783830              -122.398870   \n",
       "\n",
       "                                     start_station_name  \\\n",
       "1213621                      Golden Gate Ave at Polk St   \n",
       "1213622                 Eureka Valley Recreation Center   \n",
       "1213623                          Lakeside Dr at 14th St   \n",
       "1213624  San Francisco Caltrain (Townsend St at 4th St)   \n",
       "1213625                             Folsom St at 3rd St   \n",
       "\n",
       "                       start_time   user_type  \n",
       "1213621  2018-06-01 00:03:12.2280  Subscriber  \n",
       "1213622  2018-06-01 00:02:28.3230  Subscriber  \n",
       "1213623  2018-06-01 00:04:10.0830  Subscriber  \n",
       "1213624  2018-06-01 00:03:37.7150  Subscriber  \n",
       "1213625  2018-06-01 00:02:37.3310  Subscriber  "
      ]
     },
     "execution_count": 22,
     "metadata": {},
     "output_type": "execute_result"
    }
   ],
   "source": [
    "df_bike_share_copy.tail()"
   ]
  },
  {
   "cell_type": "markdown",
   "metadata": {},
   "source": [
    "### Define"
   ]
  },
  {
   "cell_type": "markdown",
   "metadata": {},
   "source": [
    "Use astype() to convert fields to types int and category. Used pandas to_datetime() to convert fields to timestamp"
   ]
  },
  {
   "cell_type": "markdown",
   "metadata": {},
   "source": [
    "### Code"
   ]
  },
  {
   "cell_type": "code",
   "execution_count": 23,
   "metadata": {},
   "outputs": [],
   "source": [
    "df_bike_share_copy['duration_sec'] = df_bike_share_copy['duration_sec'].astype(int)\n",
    "df_bike_share_copy['member_birth_year'] = df_bike_share_copy['member_birth_year'].astype(int)\n",
    "df_bike_share_copy['bike_id'] = df_bike_share_copy['bike_id'].astype(str)\n",
    "df_bike_share_copy['start_station_id'] = df_bike_share_copy['start_station_id'].astype(str)\n",
    "df_bike_share_copy['end_station_id'] = df_bike_share_copy['end_station_id'].astype(str)\n",
    "df_bike_share_copy['start_time'] = pd.to_datetime(df_bike_share_copy['start_time'])\n",
    "df_bike_share_copy['end_time'] = pd.to_datetime(df_bike_share_copy['end_time'])\n",
    "df_bike_share_copy['user_type'] = df_bike_share_copy['user_type'].astype('category')\n",
    "df_bike_share_copy['member_gender'] = df_bike_share_copy['member_gender'].astype('category')"
   ]
  },
  {
   "cell_type": "markdown",
   "metadata": {},
   "source": [
    "### Test"
   ]
  },
  {
   "cell_type": "code",
   "execution_count": 24,
   "metadata": {},
   "outputs": [
    {
     "name": "stdout",
     "output_type": "stream",
     "text": [
      "<class 'pandas.core.frame.DataFrame'>\n",
      "RangeIndex: 1213626 entries, 0 to 1213625\n",
      "Data columns (total 16 columns):\n",
      "bike_id                    1213626 non-null object\n",
      "bike_share_for_all_trip    760467 non-null object\n",
      "duration_sec               1213626 non-null int64\n",
      "end_station_id             1213626 non-null object\n",
      "end_station_latitude       1213626 non-null float64\n",
      "end_station_longitude      1213626 non-null float64\n",
      "end_station_name           1211667 non-null object\n",
      "end_time                   1213626 non-null datetime64[ns]\n",
      "member_birth_year          1213626 non-null int64\n",
      "member_gender              1213626 non-null category\n",
      "start_station_id           1213626 non-null object\n",
      "start_station_latitude     1213626 non-null float64\n",
      "start_station_longitude    1213626 non-null float64\n",
      "start_station_name         1211667 non-null object\n",
      "start_time                 1213626 non-null datetime64[ns]\n",
      "user_type                  1213626 non-null category\n",
      "dtypes: category(2), datetime64[ns](2), float64(4), int64(2), object(6)\n",
      "memory usage: 131.9+ MB\n"
     ]
    }
   ],
   "source": [
    "df_bike_share_copy.info()"
   ]
  },
  {
   "cell_type": "markdown",
   "metadata": {},
   "source": [
    "## Exploratory Analysis"
   ]
  },
  {
   "cell_type": "code",
   "execution_count": 25,
   "metadata": {},
   "outputs": [
    {
     "data": {
      "text/html": [
       "<div>\n",
       "<style>\n",
       "    .dataframe thead tr:only-child th {\n",
       "        text-align: right;\n",
       "    }\n",
       "\n",
       "    .dataframe thead th {\n",
       "        text-align: left;\n",
       "    }\n",
       "\n",
       "    .dataframe tbody tr th {\n",
       "        vertical-align: top;\n",
       "    }\n",
       "</style>\n",
       "<table border=\"1\" class=\"dataframe\">\n",
       "  <thead>\n",
       "    <tr style=\"text-align: right;\">\n",
       "      <th></th>\n",
       "      <th>bike_id</th>\n",
       "      <th>bike_share_for_all_trip</th>\n",
       "      <th>duration_sec</th>\n",
       "      <th>end_station_id</th>\n",
       "      <th>end_station_latitude</th>\n",
       "      <th>end_station_longitude</th>\n",
       "      <th>end_station_name</th>\n",
       "      <th>end_time</th>\n",
       "      <th>member_birth_year</th>\n",
       "      <th>member_gender</th>\n",
       "      <th>start_station_id</th>\n",
       "      <th>start_station_latitude</th>\n",
       "      <th>start_station_longitude</th>\n",
       "      <th>start_station_name</th>\n",
       "      <th>start_time</th>\n",
       "      <th>user_type</th>\n",
       "    </tr>\n",
       "  </thead>\n",
       "  <tbody>\n",
       "    <tr>\n",
       "      <th>0</th>\n",
       "      <td>96</td>\n",
       "      <td>NaN</td>\n",
       "      <td>80110</td>\n",
       "      <td>43.0</td>\n",
       "      <td>37.778768</td>\n",
       "      <td>-122.415929</td>\n",
       "      <td>San Francisco Public Library (Grove St at Hyde...</td>\n",
       "      <td>2018-01-01 15:12:50.245</td>\n",
       "      <td>1987</td>\n",
       "      <td>Male</td>\n",
       "      <td>74.0</td>\n",
       "      <td>37.776435</td>\n",
       "      <td>-122.426244</td>\n",
       "      <td>Laguna St at Hayes St</td>\n",
       "      <td>2017-12-31 16:57:39.654</td>\n",
       "      <td>Customer</td>\n",
       "    </tr>\n",
       "    <tr>\n",
       "      <th>1</th>\n",
       "      <td>88</td>\n",
       "      <td>NaN</td>\n",
       "      <td>78800</td>\n",
       "      <td>96.0</td>\n",
       "      <td>37.766210</td>\n",
       "      <td>-122.426614</td>\n",
       "      <td>Dolores St at 15th St</td>\n",
       "      <td>2018-01-01 13:49:55.617</td>\n",
       "      <td>1965</td>\n",
       "      <td>Female</td>\n",
       "      <td>284.0</td>\n",
       "      <td>37.784872</td>\n",
       "      <td>-122.400876</td>\n",
       "      <td>Yerba Buena Center for the Arts (Howard St at ...</td>\n",
       "      <td>2017-12-31 15:56:34.842</td>\n",
       "      <td>Customer</td>\n",
       "    </tr>\n",
       "    <tr>\n",
       "      <th>2</th>\n",
       "      <td>3167</td>\n",
       "      <td>NaN</td>\n",
       "      <td>43603</td>\n",
       "      <td>247.0</td>\n",
       "      <td>37.867789</td>\n",
       "      <td>-122.265896</td>\n",
       "      <td>Fulton St at Bancroft Way</td>\n",
       "      <td>2018-01-01 02:29:57.571</td>\n",
       "      <td>1997</td>\n",
       "      <td>Female</td>\n",
       "      <td>239.0</td>\n",
       "      <td>37.868813</td>\n",
       "      <td>-122.258764</td>\n",
       "      <td>Bancroft Way at Telegraph Ave</td>\n",
       "      <td>2017-12-31 14:23:14.001</td>\n",
       "      <td>Subscriber</td>\n",
       "    </tr>\n",
       "    <tr>\n",
       "      <th>3</th>\n",
       "      <td>3539</td>\n",
       "      <td>NaN</td>\n",
       "      <td>4507</td>\n",
       "      <td>259.0</td>\n",
       "      <td>37.866249</td>\n",
       "      <td>-122.299371</td>\n",
       "      <td>Addison St at Fourth St</td>\n",
       "      <td>2018-01-01 01:04:35.619</td>\n",
       "      <td>1991</td>\n",
       "      <td>Female</td>\n",
       "      <td>259.0</td>\n",
       "      <td>37.866249</td>\n",
       "      <td>-122.299371</td>\n",
       "      <td>Addison St at Fourth St</td>\n",
       "      <td>2017-12-31 23:49:28.422</td>\n",
       "      <td>Customer</td>\n",
       "    </tr>\n",
       "    <tr>\n",
       "      <th>4</th>\n",
       "      <td>2311</td>\n",
       "      <td>NaN</td>\n",
       "      <td>2183</td>\n",
       "      <td>24.0</td>\n",
       "      <td>37.789677</td>\n",
       "      <td>-122.390428</td>\n",
       "      <td>Spear St at Folsom St</td>\n",
       "      <td>2018-01-01 00:29:18.743</td>\n",
       "      <td>1990</td>\n",
       "      <td>Male</td>\n",
       "      <td>67.0</td>\n",
       "      <td>37.776639</td>\n",
       "      <td>-122.395526</td>\n",
       "      <td>San Francisco Caltrain Station 2  (Townsend St...</td>\n",
       "      <td>2017-12-31 23:52:55.581</td>\n",
       "      <td>Subscriber</td>\n",
       "    </tr>\n",
       "  </tbody>\n",
       "</table>\n",
       "</div>"
      ],
      "text/plain": [
       "  bike_id bike_share_for_all_trip  duration_sec end_station_id  \\\n",
       "0      96                     NaN         80110           43.0   \n",
       "1      88                     NaN         78800           96.0   \n",
       "2    3167                     NaN         43603          247.0   \n",
       "3    3539                     NaN          4507          259.0   \n",
       "4    2311                     NaN          2183           24.0   \n",
       "\n",
       "   end_station_latitude  end_station_longitude  \\\n",
       "0             37.778768            -122.415929   \n",
       "1             37.766210            -122.426614   \n",
       "2             37.867789            -122.265896   \n",
       "3             37.866249            -122.299371   \n",
       "4             37.789677            -122.390428   \n",
       "\n",
       "                                    end_station_name                end_time  \\\n",
       "0  San Francisco Public Library (Grove St at Hyde... 2018-01-01 15:12:50.245   \n",
       "1                              Dolores St at 15th St 2018-01-01 13:49:55.617   \n",
       "2                          Fulton St at Bancroft Way 2018-01-01 02:29:57.571   \n",
       "3                            Addison St at Fourth St 2018-01-01 01:04:35.619   \n",
       "4                              Spear St at Folsom St 2018-01-01 00:29:18.743   \n",
       "\n",
       "   member_birth_year member_gender start_station_id  start_station_latitude  \\\n",
       "0               1987          Male             74.0               37.776435   \n",
       "1               1965        Female            284.0               37.784872   \n",
       "2               1997        Female            239.0               37.868813   \n",
       "3               1991        Female            259.0               37.866249   \n",
       "4               1990          Male             67.0               37.776639   \n",
       "\n",
       "   start_station_longitude                                 start_station_name  \\\n",
       "0              -122.426244                              Laguna St at Hayes St   \n",
       "1              -122.400876  Yerba Buena Center for the Arts (Howard St at ...   \n",
       "2              -122.258764                      Bancroft Way at Telegraph Ave   \n",
       "3              -122.299371                            Addison St at Fourth St   \n",
       "4              -122.395526  San Francisco Caltrain Station 2  (Townsend St...   \n",
       "\n",
       "               start_time   user_type  \n",
       "0 2017-12-31 16:57:39.654    Customer  \n",
       "1 2017-12-31 15:56:34.842    Customer  \n",
       "2 2017-12-31 14:23:14.001  Subscriber  \n",
       "3 2017-12-31 23:49:28.422    Customer  \n",
       "4 2017-12-31 23:52:55.581  Subscriber  "
      ]
     },
     "execution_count": 25,
     "metadata": {},
     "output_type": "execute_result"
    }
   ],
   "source": [
    "df_bike_share_copy.head()"
   ]
  },
  {
   "cell_type": "markdown",
   "metadata": {},
   "source": [
    "Creating a new column duration_min for analysis"
   ]
  },
  {
   "cell_type": "code",
   "execution_count": 26,
   "metadata": {},
   "outputs": [],
   "source": [
    "df_bike_share_copy['duration_min'] = np.round(df_bike_share_copy['duration_sec']/60).astype(int)"
   ]
  },
  {
   "cell_type": "code",
   "execution_count": 27,
   "metadata": {},
   "outputs": [
    {
     "data": {
      "text/html": [
       "<div>\n",
       "<style>\n",
       "    .dataframe thead tr:only-child th {\n",
       "        text-align: right;\n",
       "    }\n",
       "\n",
       "    .dataframe thead th {\n",
       "        text-align: left;\n",
       "    }\n",
       "\n",
       "    .dataframe tbody tr th {\n",
       "        vertical-align: top;\n",
       "    }\n",
       "</style>\n",
       "<table border=\"1\" class=\"dataframe\">\n",
       "  <thead>\n",
       "    <tr style=\"text-align: right;\">\n",
       "      <th></th>\n",
       "      <th>bike_id</th>\n",
       "      <th>bike_share_for_all_trip</th>\n",
       "      <th>duration_sec</th>\n",
       "      <th>end_station_id</th>\n",
       "      <th>end_station_latitude</th>\n",
       "      <th>end_station_longitude</th>\n",
       "      <th>end_station_name</th>\n",
       "      <th>end_time</th>\n",
       "      <th>member_birth_year</th>\n",
       "      <th>member_gender</th>\n",
       "      <th>start_station_id</th>\n",
       "      <th>start_station_latitude</th>\n",
       "      <th>start_station_longitude</th>\n",
       "      <th>start_station_name</th>\n",
       "      <th>start_time</th>\n",
       "      <th>user_type</th>\n",
       "      <th>duration_min</th>\n",
       "    </tr>\n",
       "  </thead>\n",
       "  <tbody>\n",
       "    <tr>\n",
       "      <th>0</th>\n",
       "      <td>96</td>\n",
       "      <td>NaN</td>\n",
       "      <td>80110</td>\n",
       "      <td>43.0</td>\n",
       "      <td>37.778768</td>\n",
       "      <td>-122.415929</td>\n",
       "      <td>San Francisco Public Library (Grove St at Hyde...</td>\n",
       "      <td>2018-01-01 15:12:50.245</td>\n",
       "      <td>1987</td>\n",
       "      <td>Male</td>\n",
       "      <td>74.0</td>\n",
       "      <td>37.776435</td>\n",
       "      <td>-122.426244</td>\n",
       "      <td>Laguna St at Hayes St</td>\n",
       "      <td>2017-12-31 16:57:39.654</td>\n",
       "      <td>Customer</td>\n",
       "      <td>1335</td>\n",
       "    </tr>\n",
       "    <tr>\n",
       "      <th>1</th>\n",
       "      <td>88</td>\n",
       "      <td>NaN</td>\n",
       "      <td>78800</td>\n",
       "      <td>96.0</td>\n",
       "      <td>37.766210</td>\n",
       "      <td>-122.426614</td>\n",
       "      <td>Dolores St at 15th St</td>\n",
       "      <td>2018-01-01 13:49:55.617</td>\n",
       "      <td>1965</td>\n",
       "      <td>Female</td>\n",
       "      <td>284.0</td>\n",
       "      <td>37.784872</td>\n",
       "      <td>-122.400876</td>\n",
       "      <td>Yerba Buena Center for the Arts (Howard St at ...</td>\n",
       "      <td>2017-12-31 15:56:34.842</td>\n",
       "      <td>Customer</td>\n",
       "      <td>1313</td>\n",
       "    </tr>\n",
       "    <tr>\n",
       "      <th>2</th>\n",
       "      <td>3167</td>\n",
       "      <td>NaN</td>\n",
       "      <td>43603</td>\n",
       "      <td>247.0</td>\n",
       "      <td>37.867789</td>\n",
       "      <td>-122.265896</td>\n",
       "      <td>Fulton St at Bancroft Way</td>\n",
       "      <td>2018-01-01 02:29:57.571</td>\n",
       "      <td>1997</td>\n",
       "      <td>Female</td>\n",
       "      <td>239.0</td>\n",
       "      <td>37.868813</td>\n",
       "      <td>-122.258764</td>\n",
       "      <td>Bancroft Way at Telegraph Ave</td>\n",
       "      <td>2017-12-31 14:23:14.001</td>\n",
       "      <td>Subscriber</td>\n",
       "      <td>727</td>\n",
       "    </tr>\n",
       "    <tr>\n",
       "      <th>3</th>\n",
       "      <td>3539</td>\n",
       "      <td>NaN</td>\n",
       "      <td>4507</td>\n",
       "      <td>259.0</td>\n",
       "      <td>37.866249</td>\n",
       "      <td>-122.299371</td>\n",
       "      <td>Addison St at Fourth St</td>\n",
       "      <td>2018-01-01 01:04:35.619</td>\n",
       "      <td>1991</td>\n",
       "      <td>Female</td>\n",
       "      <td>259.0</td>\n",
       "      <td>37.866249</td>\n",
       "      <td>-122.299371</td>\n",
       "      <td>Addison St at Fourth St</td>\n",
       "      <td>2017-12-31 23:49:28.422</td>\n",
       "      <td>Customer</td>\n",
       "      <td>75</td>\n",
       "    </tr>\n",
       "    <tr>\n",
       "      <th>4</th>\n",
       "      <td>2311</td>\n",
       "      <td>NaN</td>\n",
       "      <td>2183</td>\n",
       "      <td>24.0</td>\n",
       "      <td>37.789677</td>\n",
       "      <td>-122.390428</td>\n",
       "      <td>Spear St at Folsom St</td>\n",
       "      <td>2018-01-01 00:29:18.743</td>\n",
       "      <td>1990</td>\n",
       "      <td>Male</td>\n",
       "      <td>67.0</td>\n",
       "      <td>37.776639</td>\n",
       "      <td>-122.395526</td>\n",
       "      <td>San Francisco Caltrain Station 2  (Townsend St...</td>\n",
       "      <td>2017-12-31 23:52:55.581</td>\n",
       "      <td>Subscriber</td>\n",
       "      <td>36</td>\n",
       "    </tr>\n",
       "  </tbody>\n",
       "</table>\n",
       "</div>"
      ],
      "text/plain": [
       "  bike_id bike_share_for_all_trip  duration_sec end_station_id  \\\n",
       "0      96                     NaN         80110           43.0   \n",
       "1      88                     NaN         78800           96.0   \n",
       "2    3167                     NaN         43603          247.0   \n",
       "3    3539                     NaN          4507          259.0   \n",
       "4    2311                     NaN          2183           24.0   \n",
       "\n",
       "   end_station_latitude  end_station_longitude  \\\n",
       "0             37.778768            -122.415929   \n",
       "1             37.766210            -122.426614   \n",
       "2             37.867789            -122.265896   \n",
       "3             37.866249            -122.299371   \n",
       "4             37.789677            -122.390428   \n",
       "\n",
       "                                    end_station_name                end_time  \\\n",
       "0  San Francisco Public Library (Grove St at Hyde... 2018-01-01 15:12:50.245   \n",
       "1                              Dolores St at 15th St 2018-01-01 13:49:55.617   \n",
       "2                          Fulton St at Bancroft Way 2018-01-01 02:29:57.571   \n",
       "3                            Addison St at Fourth St 2018-01-01 01:04:35.619   \n",
       "4                              Spear St at Folsom St 2018-01-01 00:29:18.743   \n",
       "\n",
       "   member_birth_year member_gender start_station_id  start_station_latitude  \\\n",
       "0               1987          Male             74.0               37.776435   \n",
       "1               1965        Female            284.0               37.784872   \n",
       "2               1997        Female            239.0               37.868813   \n",
       "3               1991        Female            259.0               37.866249   \n",
       "4               1990          Male             67.0               37.776639   \n",
       "\n",
       "   start_station_longitude                                 start_station_name  \\\n",
       "0              -122.426244                              Laguna St at Hayes St   \n",
       "1              -122.400876  Yerba Buena Center for the Arts (Howard St at ...   \n",
       "2              -122.258764                      Bancroft Way at Telegraph Ave   \n",
       "3              -122.299371                            Addison St at Fourth St   \n",
       "4              -122.395526  San Francisco Caltrain Station 2  (Townsend St...   \n",
       "\n",
       "               start_time   user_type  duration_min  \n",
       "0 2017-12-31 16:57:39.654    Customer          1335  \n",
       "1 2017-12-31 15:56:34.842    Customer          1313  \n",
       "2 2017-12-31 14:23:14.001  Subscriber           727  \n",
       "3 2017-12-31 23:49:28.422    Customer            75  \n",
       "4 2017-12-31 23:52:55.581  Subscriber            36  "
      ]
     },
     "execution_count": 27,
     "metadata": {},
     "output_type": "execute_result"
    }
   ],
   "source": [
    "df_bike_share_copy.head()"
   ]
  },
  {
   "cell_type": "markdown",
   "metadata": {},
   "source": [
    "since we have the start and end station id's we dont require the station name, and location coordinates. Hence we can drop those columns"
   ]
  },
  {
   "cell_type": "code",
   "execution_count": 28,
   "metadata": {},
   "outputs": [],
   "source": [
    "df_bike_share_copy.drop(['start_station_name','start_station_latitude', 'start_station_longitude','end_station_name','end_station_latitude', 'end_station_longitude'], axis=1, inplace=True)"
   ]
  },
  {
   "cell_type": "code",
   "execution_count": 29,
   "metadata": {},
   "outputs": [
    {
     "name": "stdout",
     "output_type": "stream",
     "text": [
      "<class 'pandas.core.frame.DataFrame'>\n",
      "RangeIndex: 1213626 entries, 0 to 1213625\n",
      "Data columns (total 11 columns):\n",
      "bike_id                    1213626 non-null object\n",
      "bike_share_for_all_trip    760467 non-null object\n",
      "duration_sec               1213626 non-null int64\n",
      "end_station_id             1213626 non-null object\n",
      "end_time                   1213626 non-null datetime64[ns]\n",
      "member_birth_year          1213626 non-null int64\n",
      "member_gender              1213626 non-null category\n",
      "start_station_id           1213626 non-null object\n",
      "start_time                 1213626 non-null datetime64[ns]\n",
      "user_type                  1213626 non-null category\n",
      "duration_min               1213626 non-null int64\n",
      "dtypes: category(2), datetime64[ns](2), int64(3), object(4)\n",
      "memory usage: 85.6+ MB\n"
     ]
    }
   ],
   "source": [
    "df_bike_share_copy.info()"
   ]
  },
  {
   "cell_type": "markdown",
   "metadata": {},
   "source": [
    "### Bike Share for all Users"
   ]
  },
  {
   "cell_type": "markdown",
   "metadata": {},
   "source": [
    "bike_share_for_all_trip is is available to Bay Area residents ages 18 and older who qualify for Calfresh, SFMTA (Low Income) Lifeline Passes or PG&E CARE utility discount."
   ]
  },
  {
   "cell_type": "code",
   "execution_count": 30,
   "metadata": {},
   "outputs": [
    {
     "data": {
      "text/plain": [
       "No     691062\n",
       "Yes     69405\n",
       "Name: bike_share_for_all_trip, dtype: int64"
      ]
     },
     "execution_count": 30,
     "metadata": {},
     "output_type": "execute_result"
    }
   ],
   "source": [
    "df_bike_share_copy['bike_share_for_all_trip'].value_counts()"
   ]
  },
  {
   "cell_type": "code",
   "execution_count": 31,
   "metadata": {},
   "outputs": [
    {
     "data": {
      "text/plain": [
       "Subscriber    69405\n",
       "Customer          0\n",
       "Name: user_type, dtype: int64"
      ]
     },
     "execution_count": 31,
     "metadata": {},
     "output_type": "execute_result"
    }
   ],
   "source": [
    "df_bike_share_copy[df_bike_share_copy['bike_share_for_all_trip'] == 'Yes']['user_type'].value_counts()"
   ]
  },
  {
   "cell_type": "markdown",
   "metadata": {},
   "source": [
    "Looks like Users of Bike share for all program are grouped under 'Subscribers'"
   ]
  },
  {
   "cell_type": "markdown",
   "metadata": {},
   "source": [
    "'Bike Share for all Users Membership' includes first 60 minutes of each trip. Exploring Trip Duration of such users"
   ]
  },
  {
   "cell_type": "code",
   "execution_count": 32,
   "metadata": {},
   "outputs": [
    {
     "data": {
      "text/plain": [
       "741095     1436\n",
       "786607     1418\n",
       "640603     1413\n",
       "823563     1335\n",
       "512202     1328\n",
       "940337     1318\n",
       "874194     1282\n",
       "1039599    1278\n",
       "1061396    1265\n",
       "965503     1241\n",
       "602075     1211\n",
       "625115     1207\n",
       "478124     1164\n",
       "815281     1127\n",
       "574722     1119\n",
       "1186539    1107\n",
       "1142341    1097\n",
       "1014372    1033\n",
       "681292      989\n",
       "734244      987\n",
       "1030262     985\n",
       "806746      981\n",
       "1047845     980\n",
       "551684      943\n",
       "760222      933\n",
       "1079901     929\n",
       "1115314     900\n",
       "991073      888\n",
       "633395      872\n",
       "1201981     855\n",
       "           ... \n",
       "1155359       1\n",
       "1155344       1\n",
       "713665        1\n",
       "542310        1\n",
       "542496        1\n",
       "1045961       1\n",
       "1031040       1\n",
       "676859        1\n",
       "542937        1\n",
       "712941        1\n",
       "677275        1\n",
       "596360        1\n",
       "803141        1\n",
       "713909        1\n",
       "541950        1\n",
       "774386        1\n",
       "675827        1\n",
       "675816        1\n",
       "675702        1\n",
       "541875        1\n",
       "598924        1\n",
       "714466        1\n",
       "541631        1\n",
       "843223        1\n",
       "714594        1\n",
       "599304        1\n",
       "466395        1\n",
       "674986        1\n",
       "1177608       1\n",
       "1148464       1\n",
       "Name: duration_min, Length: 69405, dtype: int64"
      ]
     },
     "execution_count": 32,
     "metadata": {},
     "output_type": "execute_result"
    }
   ],
   "source": [
    "df_bike_share_copy[df_bike_share_copy['bike_share_for_all_trip'] == 'Yes']['duration_min'].sort_values(ascending=False)"
   ]
  },
  {
   "cell_type": "markdown",
   "metadata": {},
   "source": [
    "The Ride Duration of bike share for all Users runs into 1000+ min costing such users as much as $275. It is to be noted that these users belong to low income group. Since we are not sure about the accuracy of the data of these users, we are dropping bike share for all Users"
   ]
  },
  {
   "cell_type": "code",
   "execution_count": 33,
   "metadata": {},
   "outputs": [
    {
     "name": "stdout",
     "output_type": "stream",
     "text": [
      "<class 'pandas.core.frame.DataFrame'>\n",
      "RangeIndex: 1213626 entries, 0 to 1213625\n",
      "Data columns (total 11 columns):\n",
      "bike_id                    1213626 non-null object\n",
      "bike_share_for_all_trip    760467 non-null object\n",
      "duration_sec               1213626 non-null int64\n",
      "end_station_id             1213626 non-null object\n",
      "end_time                   1213626 non-null datetime64[ns]\n",
      "member_birth_year          1213626 non-null int64\n",
      "member_gender              1213626 non-null category\n",
      "start_station_id           1213626 non-null object\n",
      "start_time                 1213626 non-null datetime64[ns]\n",
      "user_type                  1213626 non-null category\n",
      "duration_min               1213626 non-null int64\n",
      "dtypes: category(2), datetime64[ns](2), int64(3), object(4)\n",
      "memory usage: 85.6+ MB\n"
     ]
    }
   ],
   "source": [
    "df_bike_share_copy.info()"
   ]
  },
  {
   "cell_type": "code",
   "execution_count": 34,
   "metadata": {},
   "outputs": [],
   "source": [
    "df_bike_share_copy = df_bike_share_copy[df_bike_share_copy['bike_share_for_all_trip'] != 'Yes']"
   ]
  },
  {
   "cell_type": "code",
   "execution_count": 35,
   "metadata": {},
   "outputs": [
    {
     "name": "stdout",
     "output_type": "stream",
     "text": [
      "<class 'pandas.core.frame.DataFrame'>\n",
      "Int64Index: 1144221 entries, 0 to 1213625\n",
      "Data columns (total 11 columns):\n",
      "bike_id                    1144221 non-null object\n",
      "bike_share_for_all_trip    691062 non-null object\n",
      "duration_sec               1144221 non-null int64\n",
      "end_station_id             1144221 non-null object\n",
      "end_time                   1144221 non-null datetime64[ns]\n",
      "member_birth_year          1144221 non-null int64\n",
      "member_gender              1144221 non-null category\n",
      "start_station_id           1144221 non-null object\n",
      "start_time                 1144221 non-null datetime64[ns]\n",
      "user_type                  1144221 non-null category\n",
      "duration_min               1144221 non-null int64\n",
      "dtypes: category(2), datetime64[ns](2), int64(3), object(4)\n",
      "memory usage: 89.5+ MB\n"
     ]
    }
   ],
   "source": [
    "df_bike_share_copy.info()"
   ]
  },
  {
   "cell_type": "code",
   "execution_count": 36,
   "metadata": {},
   "outputs": [],
   "source": [
    "df_bike_share_copy.drop(['bike_share_for_all_trip'], axis=1, inplace=True)"
   ]
  },
  {
   "cell_type": "code",
   "execution_count": 37,
   "metadata": {},
   "outputs": [
    {
     "name": "stdout",
     "output_type": "stream",
     "text": [
      "<class 'pandas.core.frame.DataFrame'>\n",
      "Int64Index: 1144221 entries, 0 to 1213625\n",
      "Data columns (total 10 columns):\n",
      "bike_id              1144221 non-null object\n",
      "duration_sec         1144221 non-null int64\n",
      "end_station_id       1144221 non-null object\n",
      "end_time             1144221 non-null datetime64[ns]\n",
      "member_birth_year    1144221 non-null int64\n",
      "member_gender        1144221 non-null category\n",
      "start_station_id     1144221 non-null object\n",
      "start_time           1144221 non-null datetime64[ns]\n",
      "user_type            1144221 non-null category\n",
      "duration_min         1144221 non-null int64\n",
      "dtypes: category(2), datetime64[ns](2), int64(3), object(3)\n",
      "memory usage: 80.8+ MB\n"
     ]
    }
   ],
   "source": [
    "df_bike_share_copy.info()"
   ]
  },
  {
   "cell_type": "markdown",
   "metadata": {},
   "source": [
    "### Univariate Exploration"
   ]
  },
  {
   "cell_type": "code",
   "execution_count": 38,
   "metadata": {},
   "outputs": [],
   "source": [
    "def plot_label(title, xlabel, ylabel):\n",
    "    plt.title(title)\n",
    "    plt.xlabel(xlabel, fontsize=12)\n",
    "    plt.ylabel(ylabel, fontsize=12)\n",
    "    plt.show()"
   ]
  },
  {
   "cell_type": "markdown",
   "metadata": {},
   "source": [
    "### Ride Duration"
   ]
  },
  {
   "cell_type": "markdown",
   "metadata": {},
   "source": [
    "Distribution of ride duration in minutes"
   ]
  },
  {
   "cell_type": "code",
   "execution_count": 39,
   "metadata": {},
   "outputs": [
    {
     "data": {
      "text/plain": [
       "1438"
      ]
     },
     "execution_count": 39,
     "metadata": {},
     "output_type": "execute_result"
    }
   ],
   "source": [
    "df_bike_share_copy['duration_min'].max()"
   ]
  },
  {
   "cell_type": "code",
   "execution_count": 40,
   "metadata": {},
   "outputs": [
    {
     "data": {
      "text/plain": [
       "67.0"
      ]
     },
     "execution_count": 40,
     "metadata": {},
     "output_type": "execute_result"
    }
   ],
   "source": [
    "df_bike_share_copy['duration_min'].quantile(0.99)"
   ]
  },
  {
   "cell_type": "code",
   "execution_count": 41,
   "metadata": {},
   "outputs": [
    {
     "data": {
      "text/plain": [
       "6"
      ]
     },
     "execution_count": 41,
     "metadata": {},
     "output_type": "execute_result"
    }
   ],
   "source": [
    "df_bike_share_copy.loc[:,\"duration_min\"].mode()[0]"
   ]
  },
  {
   "cell_type": "code",
   "execution_count": 42,
   "metadata": {},
   "outputs": [
    {
     "data": {
      "image/png": "[encoded data removed]",
      "text/plain": [
       "<matplotlib.figure.Figure at 0x7f202b75d128>"
      ]
     },
     "metadata": {
      "needs_background": "light"
     },
     "output_type": "display_data"
    }
   ],
   "source": [
    "plt.figure(figsize=(10,5))\n",
    "bin_edges = np.arange(0,80,1)\n",
    "plt.hist(data=df_bike_share_copy, x='duration_min', bins=bin_edges);\n",
    "plt.xlim(0,35)\n",
    "tick_xlocs = np.arange(0,36,1)\n",
    "plt.xticks(tick_xlocs, tick_xlocs, rotation=30);\n",
    "plt.axvline(df_bike_share_copy.loc[:,\"duration_min\"].mode()[0], color='red')\n",
    "plot_label('Distribution of Ride Duration', 'Ride Duration (Minutes)', 'No.of Rides')"
   ]
  },
  {
   "cell_type": "markdown",
   "metadata": {},
   "source": [
    "Appears like the largest number of bike rides lasted between 6-7 min"
   ]
  },
  {
   "cell_type": "markdown",
   "metadata": {},
   "source": [
    "### User Type"
   ]
  },
  {
   "cell_type": "code",
   "execution_count": 43,
   "metadata": {},
   "outputs": [],
   "source": [
    "user_type = df_bike_share_copy['user_type'].value_counts()"
   ]
  },
  {
   "cell_type": "code",
   "execution_count": 44,
   "metadata": {},
   "outputs": [
    {
     "data": {
      "image/png": "[encoded data removed]",
      "text/plain": [
       "<matplotlib.figure.Figure at 0x7f2027f38a90>"
      ]
     },
     "metadata": {
      "needs_background": "light"
     },
     "output_type": "display_data"
    }
   ],
   "source": [
    "base_color = sb.color_palette()[0]\n",
    "sb.barplot(user_type.index, user_type.values,color = base_color)\n",
    "plot_label('Distribution of User Types', 'User Type', 'No.of Rides')"
   ]
  },
  {
   "cell_type": "code",
   "execution_count": 45,
   "metadata": {},
   "outputs": [
    {
     "data": {
      "image/png": "[encoded data removed]",
      "text/plain": [
       "<matplotlib.figure.Figure at 0x7f2027f383c8>"
      ]
     },
     "metadata": {
      "needs_background": "light"
     },
     "output_type": "display_data"
    }
   ],
   "source": [
    "sb.barplot(user_type.index, user_type.values/user_type.values.sum(), color = base_color)\n",
    "tick_ylocs = np.arange(10, 100, 10)\n",
    "plt.yticks(tick_ylocs/100, tick_ylocs)\n",
    "plot_label('Distribution of User Types', 'User Type', '% of Bike Rides')"
   ]
  },
  {
   "cell_type": "markdown",
   "metadata": {},
   "source": [
    "Looks like bike rides by subscribers are significantly much higher than those by non subscribers"
   ]
  },
  {
   "cell_type": "markdown",
   "metadata": {},
   "source": [
    "### Member Gender"
   ]
  },
  {
   "cell_type": "code",
   "execution_count": 46,
   "metadata": {},
   "outputs": [],
   "source": [
    "member_gender = df_bike_share_copy['member_gender'].value_counts()"
   ]
  },
  {
   "cell_type": "code",
   "execution_count": 47,
   "metadata": {},
   "outputs": [
    {
     "data": {
      "image/png": "[encoded data removed]",
      "text/plain": [
       "<matplotlib.figure.Figure at 0x7f202b75d710>"
      ]
     },
     "metadata": {
      "needs_background": "light"
     },
     "output_type": "display_data"
    }
   ],
   "source": [
    "sb.barplot(member_gender.index, member_gender.values,color = base_color)\n",
    "plot_label('Distribution of User Genders', ' User Gender', 'No.of Rides')"
   ]
  },
  {
   "cell_type": "code",
   "execution_count": 48,
   "metadata": {},
   "outputs": [
    {
     "data": {
      "image/png": "[encoded data removed]",
      "text/plain": [
       "<matplotlib.figure.Figure at 0x7f20296ee898>"
      ]
     },
     "metadata": {
      "needs_background": "light"
     },
     "output_type": "display_data"
    }
   ],
   "source": [
    "sb.barplot(member_gender.index, member_gender.values/member_gender.values.sum(), color = base_color)\n",
    "tick_ylocs = np.arange(10, 100, 10)\n",
    "plt.yticks(tick_ylocs/100, tick_ylocs)\n",
    "plot_label('Distribution of User Genders', ' User Gender', '% of Rides')"
   ]
  },
  {
   "cell_type": "markdown",
   "metadata": {},
   "source": [
    "Looks like the Males used the bike share services much more than Females and other gender"
   ]
  },
  {
   "cell_type": "markdown",
   "metadata": {},
   "source": [
    "### Age Demographic"
   ]
  },
  {
   "cell_type": "code",
   "execution_count": 49,
   "metadata": {},
   "outputs": [],
   "source": [
    "df_bike_share_copy['age'] = 2017 - df_bike_share_copy['member_birth_year']"
   ]
  },
  {
   "cell_type": "code",
   "execution_count": 50,
   "metadata": {},
   "outputs": [
    {
     "data": {
      "text/plain": [
       "count    1.144221e+06\n",
       "mean     3.558632e+01\n",
       "std      1.030888e+01\n",
       "min      1.700000e+01\n",
       "25%      2.800000e+01\n",
       "50%      3.300000e+01\n",
       "75%      4.100000e+01\n",
       "max      1.310000e+02\n",
       "Name: age, dtype: float64"
      ]
     },
     "execution_count": 50,
     "metadata": {},
     "output_type": "execute_result"
    }
   ],
   "source": [
    "df_bike_share_copy['age'].describe()"
   ]
  },
  {
   "cell_type": "code",
   "execution_count": 51,
   "metadata": {},
   "outputs": [
    {
     "data": {
      "text/plain": [
       "(838, 11)"
      ]
     },
     "execution_count": 51,
     "metadata": {},
     "output_type": "execute_result"
    }
   ],
   "source": [
    "df_bike_share_copy[df_bike_share_copy['age'] >= 100 ].shape"
   ]
  },
  {
   "cell_type": "code",
   "execution_count": 52,
   "metadata": {},
   "outputs": [
    {
     "data": {
      "image/png": "[encoded data removed]",
      "text/plain": [
       "<matplotlib.figure.Figure at 0x7f2029456588>"
      ]
     },
     "metadata": {
      "needs_background": "light"
     },
     "output_type": "display_data"
    }
   ],
   "source": [
    "bin_edges = np.arange(0,90,5)\n",
    "plt.hist(data=df_bike_share_copy, x='age', bins=bin_edges);\n",
    "plt.xticks(bin_edges, bin_edges);\n",
    "plt.xlim(0,75)\n",
    "plot_label('Distribution of User Age Groups', 'User Age Groups', 'No.of Rides')"
   ]
  },
  {
   "cell_type": "markdown",
   "metadata": {},
   "source": [
    "The 25 - 35 age group seem to take the most number of  bike rides"
   ]
  },
  {
   "cell_type": "markdown",
   "metadata": {},
   "source": [
    "### Number of bike rides per month"
   ]
  },
  {
   "cell_type": "code",
   "execution_count": 53,
   "metadata": {},
   "outputs": [],
   "source": [
    "month_order = [7, 8, 9,10,11,12,1,2,3,4,5,6]\n",
    "month_index = df_bike_share_copy.groupby(df_bike_share_copy['start_time'].dt.month)['start_time'].count().index\n",
    "month_values = df_bike_share_copy.groupby(df_bike_share_copy['start_time'].dt.month)['start_time'].count().values"
   ]
  },
  {
   "cell_type": "code",
   "execution_count": 54,
   "metadata": {},
   "outputs": [
    {
     "data": {
      "image/png": "[encoded data removed]",
      "text/plain": [
       "<matplotlib.figure.Figure at 0x7f2029456f28>"
      ]
     },
     "metadata": {
      "needs_background": "light"
     },
     "output_type": "display_data"
    }
   ],
   "source": [
    "base_color = sb.color_palette()[0]\n",
    "sb.barplot(month_index, month_values, order=month_order, color = base_color)\n",
    "plt.xticks(rotation=15);\n",
    "plot_label('Distribution of Rides across Months', 'Months July 2017 - June 2018', 'No.of Rides')"
   ]
  },
  {
   "cell_type": "markdown",
   "metadata": {},
   "source": [
    "Looks like there is a dip in number of rides near Nov 2017 and a steady rise in numbers ever since ino 2018"
   ]
  },
  {
   "cell_type": "markdown",
   "metadata": {},
   "source": [
    "### Number of bike rides per day"
   ]
  },
  {
   "cell_type": "code",
   "execution_count": 55,
   "metadata": {},
   "outputs": [
    {
     "data": {
      "image/png": "[encoded data removed]",
      "text/plain": [
       "<matplotlib.figure.Figure at 0x7f2029337320>"
      ]
     },
     "metadata": {
      "needs_background": "light"
     },
     "output_type": "display_data"
    }
   ],
   "source": [
    "plt.figure(figsize=(10,5))\n",
    "df_bike_share_copy.groupby(df_bike_share_copy['start_time'].dt.day)['start_time'].count().plot(kind='bar');\n",
    "plt.xticks(rotation=15)\n",
    "plot_label('Distribution of Rides across Days of Month', 'Days of Month', 'No.of Rides')"
   ]
  },
  {
   "cell_type": "markdown",
   "metadata": {},
   "source": [
    "These seem to be multiple peaks across days of month"
   ]
  },
  {
   "cell_type": "markdown",
   "metadata": {},
   "source": [
    "### Number of bikerides per day of week"
   ]
  },
  {
   "cell_type": "code",
   "execution_count": 56,
   "metadata": {},
   "outputs": [
    {
     "data": {
      "image/png": "[encoded data removed]",
      "text/plain": [
       "<matplotlib.figure.Figure at 0x7f20292fbeb8>"
      ]
     },
     "metadata": {
      "needs_background": "light"
     },
     "output_type": "display_data"
    }
   ],
   "source": [
    "df_bike_share_copy.groupby(df_bike_share_copy['start_time'].dt.dayofweek)['start_time'].count().plot(kind='bar');\n",
    "week_order = ['Monday', 'Tuesday', 'Wednesday', 'Thursday', 'Friday', 'Saturday', 'Sunday']\n",
    "plt.xticks([0,1,2,3,4,5,6], week_order, rotation=15);\n",
    "plot_label('Distribution of Rides across Days of Week', 'Days of Week', 'No.of Rides')"
   ]
  },
  {
   "cell_type": "markdown",
   "metadata": {},
   "source": [
    "Maximum rides seem to occur in mid of the week suggesting people use bike share to commute to work on weekdays, while minimum rides occur at weekends"
   ]
  },
  {
   "cell_type": "markdown",
   "metadata": {},
   "source": [
    "### Number of bikerides across hours of a day"
   ]
  },
  {
   "cell_type": "code",
   "execution_count": 57,
   "metadata": {},
   "outputs": [
    {
     "data": {
      "image/png": "[encoded data removed]",
      "text/plain": [
       "<matplotlib.figure.Figure at 0x7f202920bf98>"
      ]
     },
     "metadata": {
      "needs_background": "light"
     },
     "output_type": "display_data"
    }
   ],
   "source": [
    "plt.figure(figsize=(10,5))\n",
    "df_bike_share_copy.groupby(df_bike_share_copy['start_time'].dt.hour)['start_time'].count().plot(kind='bar');\n",
    "plt.xticks(rotation=15)\n",
    "plot_label('Distribution of Rides across Hours of Day', 'Hours of Day', 'No.of Rides')"
   ]
  },
  {
   "cell_type": "markdown",
   "metadata": {},
   "source": [
    "Looks like the majority of bike rides occur between 8 to 10 hrs in the morning and 17 to 19 hours in the evening suggesting people using bike share to commute to/fro work"
   ]
  },
  {
   "cell_type": "markdown",
   "metadata": {},
   "source": [
    "### Bivariate Exploration"
   ]
  },
  {
   "cell_type": "code",
   "execution_count": 58,
   "metadata": {},
   "outputs": [],
   "source": [
    "def subplot_label(ax, title, x_label, y_label):\n",
    "    ax.set_title(title)\n",
    "    ax.set_xlabel(x_label)\n",
    "    ax.set_ylabel(y_label)\n",
    "    "
   ]
  },
  {
   "cell_type": "markdown",
   "metadata": {},
   "source": [
    "Forming user groups"
   ]
  },
  {
   "cell_type": "code",
   "execution_count": 59,
   "metadata": {},
   "outputs": [],
   "source": [
    "df_bike_share_copy_customer = df_bike_share_copy[df_bike_share_copy['user_type'] == 'Customer']\n",
    "df_bike_share_copy_subscriber = df_bike_share_copy[df_bike_share_copy['user_type'] == 'Subscriber']\n",
    "df_bike_share_copy_male = df_bike_share_copy[df_bike_share_copy['member_gender'] == 'Male']\n",
    "df_bike_share_copy_female = df_bike_share_copy[df_bike_share_copy['member_gender'] == 'Female']\n",
    "df_bike_share_copy_other = df_bike_share_copy[df_bike_share_copy['member_gender'] == 'Other']"
   ]
  },
  {
   "cell_type": "markdown",
   "metadata": {},
   "source": [
    "### Ride Duration across user base"
   ]
  },
  {
   "cell_type": "code",
   "execution_count": 60,
   "metadata": {},
   "outputs": [
    {
     "data": {
      "text/plain": [
       "(0, 35)"
      ]
     },
     "execution_count": 60,
     "metadata": {},
     "output_type": "execute_result"
    },
    {
     "data": {
      "image/png": "[encoded data removed]",
      "text/plain": [
       "<matplotlib.figure.Figure at 0x7f20290cca58>"
      ]
     },
     "metadata": {
      "needs_background": "light"
     },
     "output_type": "display_data"
    }
   ],
   "source": [
    "plt.figure(figsize=(18,8))\n",
    "\n",
    "ax1 = plt.subplot(1, 2, 1)\n",
    "bin_edges = np.arange(0,80,1)\n",
    "plt.hist(data=df_bike_share_copy_customer, x='duration_min', bins=bin_edges);\n",
    "tick_xlocs = np.arange(0,36,2)\n",
    "plt.xticks(tick_xlocs, tick_xlocs, rotation=30);\n",
    "plt.axvline(df_bike_share_copy_customer.loc[:,\"duration_min\"].mode()[0], color='red')\n",
    "subplot_label(ax1,'Distribution of Ride Duration of Customers', 'Ride Duration of Customers (Minutes)','No of Rides')\n",
    "plt.xlim(0,35)\n",
    "\n",
    "ax2 = plt.subplot(1, 2, 2)\n",
    "bin_edges = np.arange(0,80,1)\n",
    "plt.hist(data=df_bike_share_copy_subscriber, x='duration_min', bins=bin_edges);\n",
    "tick_xlocs = np.arange(0,36,2)\n",
    "plt.xticks(tick_xlocs, tick_xlocs, rotation=30);\n",
    "plt.axvline(df_bike_share_copy_subscriber.loc[:,\"duration_min\"].mode()[0], color='red')\n",
    "ax2.set_title('Distribution of Ride Duration of Subscribers')\n",
    "ax2.set_xlabel('Ride Duration of Subscribers (Minutes)')\n",
    "ax2.set_ylabel(ax1.get_ylabel())\n",
    "subplot_label(ax2,'Distribution of Ride Duration of Subscribers', 'Ride Duration of Subscribers (Minutes)','No of Rides')\n",
    "plt.xlim(0,35)"
   ]
  },
  {
   "cell_type": "markdown",
   "metadata": {},
   "source": [
    "Ride Duration of Customers seem to peak around 10-11 min while that of subscribers around 6-7 min"
   ]
  },
  {
   "cell_type": "code",
   "execution_count": 61,
   "metadata": {},
   "outputs": [],
   "source": [
    "df_bike_share_copy_customer_15 = df_bike_share_copy_customer[df_bike_share_copy_customer['duration_min'] <= 15].shape[0]\n",
    "df_bike_share_copy_customer_30 = df_bike_share_copy_customer[(df_bike_share_copy_customer['duration_min'] <= 30) & (df_bike_share_copy_customer['duration_min'] > 15)].shape[0]\n",
    "df_bike_share_copy_customer_45 = df_bike_share_copy_customer[(df_bike_share_copy_customer['duration_min'] <= 45) & (df_bike_share_copy_customer['duration_min'] > 30)].shape[0]\n",
    "df_bike_share_copy_customer_other = df_bike_share_copy_customer[df_bike_share_copy_customer['duration_min'] > 45].shape[0]"
   ]
  },
  {
   "cell_type": "code",
   "execution_count": 62,
   "metadata": {},
   "outputs": [],
   "source": [
    "duration_customer = [df_bike_share_copy_customer_15, df_bike_share_copy_customer_30,df_bike_share_copy_customer_45,df_bike_share_copy_customer_other]\n",
    "\n",
    "pd_duration_customer = pd.Series(duration_customer)"
   ]
  },
  {
   "cell_type": "code",
   "execution_count": 63,
   "metadata": {},
   "outputs": [],
   "source": [
    "df_bike_share_copy_subscriber_15 = df_bike_share_copy_subscriber[df_bike_share_copy_subscriber['duration_min'] <= 15].shape[0]\n",
    "df_bike_share_copy_subscriber_30 = df_bike_share_copy_subscriber[(df_bike_share_copy_subscriber['duration_min'] <= 30) & (df_bike_share_copy_subscriber['duration_min'] > 15)].shape[0]\n",
    "df_bike_share_copy_subscriber_45 = df_bike_share_copy_subscriber[(df_bike_share_copy_subscriber['duration_min'] <= 45) & (df_bike_share_copy_subscriber['duration_min'] > 30)].shape[0]\n",
    "df_bike_share_copy_subscriber_other = df_bike_share_copy_subscriber[df_bike_share_copy_subscriber['duration_min'] > 45].shape[0]"
   ]
  },
  {
   "cell_type": "code",
   "execution_count": 64,
   "metadata": {},
   "outputs": [],
   "source": [
    "duration_subscriber = [df_bike_share_copy_subscriber_15, df_bike_share_copy_subscriber_30,df_bike_share_copy_subscriber_45,df_bike_share_copy_subscriber_other]\n",
    "pd_duration_subscriber = pd.Series(duration_subscriber)"
   ]
  },
  {
   "cell_type": "code",
   "execution_count": 65,
   "metadata": {},
   "outputs": [
    {
     "data": {
      "image/png": "[encoded data removed]",
      "text/plain": [
       "<matplotlib.figure.Figure at 0x7f2029639b38>"
      ]
     },
     "metadata": {
      "needs_background": "light"
     },
     "output_type": "display_data"
    }
   ],
   "source": [
    "plt.figure(figsize=(12,5))\n",
    "\n",
    "ax1 = plt.subplot(1, 2, 1)\n",
    "(pd_duration_customer/pd_duration_customer.sum()).plot(kind='bar')\n",
    "plt.xticks([0,1,2,3],['<15', '15-30', '30-45', '>45' ], rotation=0)\n",
    "tick_ylocs = np.arange(0,110,10)\n",
    "plt.yticks(tick_ylocs/100, tick_ylocs)\n",
    "subplot_label(ax1,'Bike Ride Duration of Customers', 'Ride Duration (Minutes)','% of Rides')\n",
    "\n",
    "ax2 = plt.subplot(1, 2, 2)\n",
    "(pd_duration_subscriber/pd_duration_subscriber.sum()).plot(kind='bar')\n",
    "plt.xticks([0,1,2,3],['<15', '15-30', '30-45', '>45' ], rotation=0)\n",
    "tick_ylocs = np.arange(0,110,10)\n",
    "plt.yticks(tick_ylocs/100, tick_ylocs)\n",
    "subplot_label(ax2,'Bike Ride Duration of Subscribers', 'Ride Duration (Minutes)','% of Rides')"
   ]
  },
  {
   "cell_type": "markdown",
   "metadata": {},
   "source": [
    "* Customers have a fixed price for the first 30 min of the ride and looks like around 15% of the customers use bikes for more than 30 min.\n",
    "* Subscribers have a fixed price for the first 45 min of the ride and only a small %(1-2) of them use bikes for more than 45 min\n"
   ]
  },
  {
   "cell_type": "markdown",
   "metadata": {},
   "source": [
    "### Ride Duration - Descriptive Statistics"
   ]
  },
  {
   "cell_type": "code",
   "execution_count": 68,
   "metadata": {},
   "outputs": [
    {
     "data": {
      "image/png": "[encoded data removed]",
      "text/plain": [
       "<matplotlib.figure.Figure at 0x7f202954e240>"
      ]
     },
     "metadata": {
      "needs_background": "light"
     },
     "output_type": "display_data"
    }
   ],
   "source": [
    "plt.figure(figsize=(12,5))\n",
    "\n",
    "ax1 = plt.subplot(1, 2, 1)\n",
    "df_bike_share_copy.groupby('user_type')['duration_min'].mean().plot(kind='bar')\n",
    "plt.xticks(rotation=0)\n",
    "subplot_label(ax1,'Mean Ride duration', 'User Type','% of Rides')\n",
    "\n",
    "ax2 = plt.subplot(1, 2, 2)\n",
    "df_bike_share_copy.groupby('user_type')['duration_min'].median().plot(kind='bar')\n",
    "plt.xticks(rotation=0)\n",
    "subplot_label(ax2,'Median Ride duration', 'User Type', '% of Rides')"
   ]
  },
  {
   "cell_type": "code",
   "execution_count": 69,
   "metadata": {},
   "outputs": [
    {
     "data": {
      "image/png": "[encoded data removed]",
      "text/plain": [
       "<matplotlib.figure.Figure at 0x7f20290a8278>"
      ]
     },
     "metadata": {
      "needs_background": "light"
     },
     "output_type": "display_data"
    }
   ],
   "source": [
    "plt.figure(figsize=(12,5))\n",
    "\n",
    "ax1 = plt.subplot(1, 2, 1)\n",
    "df_bike_share_copy.groupby('user_type')['duration_min'].quantile(0.25).plot(kind='bar')\n",
    "plt.xticks(rotation=0)\n",
    "subplot_label(ax1,'25th %ile Ride duration', 'User Type','% of Rides')\n",
    "\n",
    "ax2 = plt.subplot(1, 2, 2)\n",
    "df_bike_share_copy.groupby('user_type')['duration_min'].quantile(0.75).plot(kind='bar')\n",
    "plt.xticks(rotation=0)\n",
    "subplot_label(ax2,'75th %ile Ride duration', 'User Type','% of Rides')"
   ]
  },
  {
   "cell_type": "markdown",
   "metadata": {},
   "source": [
    "It can be seen from the above plots of ride duration summary statistics that many customers generally ride bikes longer than the subscribers\n",
    "\n",
    "\n"
   ]
  },
  {
   "cell_type": "markdown",
   "metadata": {},
   "source": [
    "### Ride Duration across User Gender"
   ]
  },
  {
   "cell_type": "code",
   "execution_count": 70,
   "metadata": {},
   "outputs": [
    {
     "data": {
      "text/plain": [
       "(0, 25)"
      ]
     },
     "execution_count": 70,
     "metadata": {},
     "output_type": "execute_result"
    },
    {
     "data": {
      "image/png": "[encoded data removed]",
      "text/plain": [
       "<matplotlib.figure.Figure at 0x7f20292b1e10>"
      ]
     },
     "metadata": {
      "needs_background": "light"
     },
     "output_type": "display_data"
    }
   ],
   "source": [
    "plt.figure(figsize=(20,10))\n",
    "\n",
    "ax1 = plt.subplot(1, 3, 1)\n",
    "bin_edges = np.arange(0,80,1)\n",
    "plt.hist(data=df_bike_share_copy_male, x='duration_min', bins=bin_edges);\n",
    "plt.xlim(0,35)\n",
    "tick_xlocs = np.arange(0,36,2)\n",
    "plt.xticks(tick_xlocs, tick_xlocs, rotation=30);\n",
    "plt.axvline(df_bike_share_copy_male.loc[:,\"duration_min\"].mode()[0], color='red')\n",
    "subplot_label(ax1,'Distribution of Ride Duration of Males', 'Ride Duration (Minutes)','No of Rides')\n",
    "plt.xlim(0,25)\n",
    "\n",
    "ax2 = plt.subplot(1, 3, 2)\n",
    "bin_edges = np.arange(0,80,1)\n",
    "plt.hist(data=df_bike_share_copy_female, x='duration_min', bins=bin_edges);\n",
    "plt.xlim(0,35)\n",
    "tick_xlocs = np.arange(0,36,2)\n",
    "plt.xticks(tick_xlocs, tick_xlocs, rotation=30);\n",
    "subplot_label(ax2,'Distribution of Ride Duration of Females', 'Ride Duration (Minutes)','No of Rides')\n",
    "plt.xlim(0,25)\n",
    "\n",
    "ax3 = plt.subplot(1, 3, 3)\n",
    "bin_edges = np.arange(0,80,1)\n",
    "plt.hist(data=df_bike_share_copy_other, x='duration_min', bins=bin_edges);\n",
    "plt.xlim(0,35)\n",
    "tick_xlocs = np.arange(0,36,2)\n",
    "plt.xticks(tick_xlocs, tick_xlocs, rotation=30);\n",
    "plt.axvline(df_bike_share_copy_other.loc[:,\"duration_min\"].mode()[0], color='red')\n",
    "subplot_label(ax3,'Distribution of Ride Duration of Other Gender', 'Ride Duration (Minutes)','No of Rides')\n",
    "plt.xlim(0,25)"
   ]
  },
  {
   "cell_type": "markdown",
   "metadata": {},
   "source": [
    "Ride Duration of Male and Female users seem to peak around 6-7 min while that of Other Gender around 7-8 min"
   ]
  },
  {
   "cell_type": "markdown",
   "metadata": {},
   "source": [
    "### User Type vs User Gender"
   ]
  },
  {
   "cell_type": "code",
   "execution_count": 71,
   "metadata": {},
   "outputs": [
    {
     "data": {
      "image/png": "[encoded data removed]",
      "text/plain": [
       "<matplotlib.figure.Figure at 0x7f2047940630>"
      ]
     },
     "metadata": {
      "needs_background": "light"
     },
     "output_type": "display_data"
    }
   ],
   "source": [
    "sb.countplot(data = df_bike_share_copy, x = 'user_type', hue = 'member_gender');\n",
    "tick_ylocs = [1000,2000,4000,8000,16000,32000,64000,128000,256000,512000,1024000]\n",
    "plt.yscale('log', nonposy='clip')\n",
    "plt.yticks(tick_ylocs, tick_ylocs);\n",
    "plt.title('Ride Duration of Users across Gender')\n",
    "plot_label('Ride Duration of Users across Gender', 'User Types', 'No.of Rides')"
   ]
  },
  {
   "cell_type": "markdown",
   "metadata": {},
   "source": [
    "### Distribution of User Age across User type"
   ]
  },
  {
   "cell_type": "code",
   "execution_count": 72,
   "metadata": {},
   "outputs": [
    {
     "data": {
      "image/png": "[encoded data removed]",
      "text/plain": [
       "<matplotlib.figure.Figure at 0x7f202b75d358>"
      ]
     },
     "metadata": {
      "needs_background": "light"
     },
     "output_type": "display_data"
    }
   ],
   "source": [
    "plt.figure(figsize=(12,5))\n",
    "\n",
    "ax1 = plt.subplot(1, 2, 1)\n",
    "bin_edges = np.arange(0,90,2.5)\n",
    "plt.hist(data=df_bike_share_copy_customer, x='age', bins=bin_edges);\n",
    "plt.xticks(bin_edges*2, (bin_edges*2).astype(int));\n",
    "plt.xlim(0,75)\n",
    "subplot_label(ax1,'Distribution of Customer Age Groups', 'Customer Age Groups','No of Rides')\n",
    "\n",
    "ax2= plt.subplot(1, 2, 2)\n",
    "bin_edges = np.arange(0,90,2.5)\n",
    "plt.hist(data=df_bike_share_copy_subscriber, x='age', bins=bin_edges);\n",
    "plt.xticks(bin_edges*2, (bin_edges*2).astype(int));\n",
    "plt.xlim(0,75)\n",
    "subplot_label(ax2,'Distribution of Subscriber Age Groups', 'Subscriber Age Groups','No of Rides')"
   ]
  },
  {
   "cell_type": "markdown",
   "metadata": {},
   "source": [
    "Both Customers and Subscribers seem to have most number of users in 30 - 32.5 age bracket"
   ]
  },
  {
   "cell_type": "code",
   "execution_count": 73,
   "metadata": {},
   "outputs": [],
   "source": [
    "month_order = [7, 8, 9,10,11,12,1,2,3,4,5,6]\n",
    "base_color = sb.color_palette()[0]\n",
    "customer_month_index = df_bike_share_copy_customer.groupby(df_bike_share_copy_customer['start_time'].dt.month)['start_time'].count().index\n",
    "customer_month_values = df_bike_share_copy_customer.groupby(df_bike_share_copy_customer['start_time'].dt.month)['start_time'].count().values\n",
    "subscriber_month_index = df_bike_share_copy_subscriber.groupby(df_bike_share_copy_subscriber['start_time'].dt.month)['start_time'].count().index\n",
    "subscriber_month_values = df_bike_share_copy_subscriber.groupby(df_bike_share_copy_subscriber['start_time'].dt.month)['start_time'].count().values"
   ]
  },
  {
   "cell_type": "markdown",
   "metadata": {},
   "source": [
    "### User rides across Months"
   ]
  },
  {
   "cell_type": "code",
   "execution_count": 74,
   "metadata": {},
   "outputs": [
    {
     "data": {
      "image/png": "[encoded data removed]",
      "text/plain": [
       "<matplotlib.figure.Figure at 0x7f202962b400>"
      ]
     },
     "metadata": {
      "needs_background": "light"
     },
     "output_type": "display_data"
    }
   ],
   "source": [
    "plt.figure(figsize=(15,7))\n",
    "\n",
    "ax1 = plt.subplot(1, 2, 1)\n",
    "sb.barplot(customer_month_index, customer_month_values, order=month_order, color = base_color)\n",
    "plt.yscale('log', nonposy='clip')\n",
    "tick_ylocs = [1000,2000,4000,8000,16000,32000,64000,128000,256000,512000,1024000]\n",
    "plt.yticks(tick_ylocs, tick_ylocs);\n",
    "plt.xticks(rotation=15);\n",
    "subplot_label(ax1,'Distribution of Customer Rides across Months', 'Months July 2017 - June 2018','No of Rides')\n",
    "\n",
    "ax2 = plt.subplot(1, 2, 2)\n",
    "sb.barplot(subscriber_month_index, subscriber_month_values, order=month_order, color = base_color)\n",
    "plt.yscale('log', nonposy='clip')\n",
    "tick_ylocs = [1000,2000,4000,8000,16000,32000,64000,128000,256000,512000,1024000]\n",
    "plt.yticks(tick_ylocs, tick_ylocs);\n",
    "plt.xticks(rotation=15);\n",
    "subplot_label(ax2,'Distribution of Subscriber Rides across Months', 'Months July 2017 - June 2018','No of Rides')"
   ]
  },
  {
   "cell_type": "markdown",
   "metadata": {},
   "source": [
    "Bikes rides by customers took a downtrend from october and started rising in feb and bike rides by subscribers took a dip in the months of nov-dec"
   ]
  },
  {
   "cell_type": "markdown",
   "metadata": {},
   "source": [
    "### User rides across Days of Week"
   ]
  },
  {
   "cell_type": "code",
   "execution_count": 75,
   "metadata": {},
   "outputs": [
    {
     "data": {
      "image/png": "[encoded data removed]",
      "text/plain": [
       "<matplotlib.figure.Figure at 0x7f20294482e8>"
      ]
     },
     "metadata": {
      "needs_background": "light"
     },
     "output_type": "display_data"
    }
   ],
   "source": [
    "week_order = ['Monday', 'Tuesday', 'Wednesday', 'Thursday', 'Friday', 'Saturday', 'Sunday']\n",
    "plt.figure(figsize=(15,7))\n",
    "\n",
    "ax1 = plt.subplot(1, 2, 1)\n",
    "df_bike_share_copy_customer.groupby(df_bike_share_copy_customer['start_time'].dt.dayofweek)['start_time'].count().plot(kind='bar');\n",
    "plt.xticks([0,1,2,3,4,5,6], week_order, rotation=15);\n",
    "subplot_label(ax1,'Distribution of Customer Rides across Days of week', 'Days of Week','No of Rides')\n",
    "\n",
    "ax2 = plt.subplot(1, 2, 2)\n",
    "df_bike_share_copy_subscriber.groupby(df_bike_share_copy_subscriber['start_time'].dt.dayofweek)['start_time'].count().plot(kind='bar');\n",
    "plt.xticks([0,1,2,3,4,5,6], week_order, rotation=15);\n",
    "subplot_label(ax2,'Distribution of Subscriber Rides across Days of week', 'Days of Week','No of Rides')"
   ]
  },
  {
   "cell_type": "markdown",
   "metadata": {},
   "source": [
    "The bike rides taken by customers have increased through the week and reaching a peak on Saturday while the bike rides by subscribers have decreased through the weekdays hitting the minimum on the weekends.\n",
    "May be the visiting customers use bike shares for leisure/one off rides on weekends and looks like the subscribes mainly use bike rides to commute to work on weekdays"
   ]
  },
  {
   "cell_type": "markdown",
   "metadata": {},
   "source": [
    "### Rides by Users through the day"
   ]
  },
  {
   "cell_type": "code",
   "execution_count": 76,
   "metadata": {},
   "outputs": [
    {
     "data": {
      "image/png": "[encoded data removed]",
      "text/plain": [
       "<matplotlib.figure.Figure at 0x7f2028d392b0>"
      ]
     },
     "metadata": {
      "needs_background": "light"
     },
     "output_type": "display_data"
    }
   ],
   "source": [
    "plt.figure(figsize=(15,7))\n",
    "\n",
    "ax1 = plt.subplot(1, 2, 1)\n",
    "df_bike_share_copy_customer.groupby(df_bike_share_copy['start_time'].dt.hour)['start_time'].count().plot(kind='bar');\n",
    "plt.xticks(rotation=15)\n",
    "subplot_label(ax1,'Customer Rides across Hours of Day', 'Start Time - Hours of Day','No of Rides')\n",
    "\n",
    "ax2 = plt.subplot(1, 2, 2)\n",
    "df_bike_share_copy_subscriber.groupby(df_bike_share_copy['start_time'].dt.hour)['start_time'].count().plot(kind='bar');\n",
    "plt.xticks(rotation=15)\n",
    "subplot_label(ax2,'Subscriber Rides across Hours of Day', 'Start Time - Hours of Day','No of Rides')"
   ]
  },
  {
   "cell_type": "markdown",
   "metadata": {},
   "source": [
    "Looks the the subscribers have used the bike share service more at mornings and evenings suggesting commute to work while the customers's usage of bike share service seems to increase through the day and peak in the evening"
   ]
  },
  {
   "cell_type": "code",
   "execution_count": 77,
   "metadata": {},
   "outputs": [
    {
     "data": {
      "image/png": "[encoded data removed]",
      "text/plain": [
       "<matplotlib.figure.Figure at 0x7f2028ca9c18>"
      ]
     },
     "metadata": {
      "needs_background": "light"
     },
     "output_type": "display_data"
    }
   ],
   "source": [
    "plt.figure(figsize=(15,7))\n",
    "\n",
    "ax1 = plt.subplot(1, 2, 1)\n",
    "df_bike_share_copy_customer.groupby(df_bike_share_copy['end_time'].dt.hour)['end_time'].count().plot(kind='bar');\n",
    "plt.xticks(rotation=15)\n",
    "subplot_label(ax1,'Customer Rides across Hours of Day', 'End Time - Hours of Day','No of Rides')\n",
    "\n",
    "ax2 = plt.subplot(1, 2, 2)\n",
    "df_bike_share_copy_subscriber.groupby(df_bike_share_copy['end_time'].dt.hour)['end_time'].count().plot(kind='bar');\n",
    "plt.xticks(rotation=15)\n",
    "subplot_label(ax2,'Subscriber Rides across Hours of Day', 'End Time - Hours of Day','No of Rides')"
   ]
  },
  {
   "cell_type": "markdown",
   "metadata": {},
   "source": [
    "Not much difference between start and end hour distribution"
   ]
  },
  {
   "cell_type": "markdown",
   "metadata": {},
   "source": [
    "### Rides by Users across locations"
   ]
  },
  {
   "cell_type": "code",
   "execution_count": 78,
   "metadata": {},
   "outputs": [],
   "source": [
    "customer_location_count = df_bike_share_copy_customer['start_station_id'].value_counts()[:5]\n",
    "subscriber_location_count = df_bike_share_copy_subscriber['start_station_id'].value_counts()[:5]"
   ]
  },
  {
   "cell_type": "code",
   "execution_count": 79,
   "metadata": {},
   "outputs": [
    {
     "name": "stdout",
     "output_type": "stream",
     "text": [
      "The Embarcadero at Sansome St\n",
      "San Francisco Ferry Building (Harry Bridges Plaza)\n",
      "Powell St BART Station (Market St at 4th St)\n",
      "Berry St at 4th St\n",
      "Powell St BART Station (Market St at 5th St)\n"
     ]
    }
   ],
   "source": [
    "location_label = []\n",
    "for i in range(5):\n",
    "    print(df_bike_share[df_bike_share['start_station_id'] == float(customer_location_count.index[i])].start_station_name.unique()[0])"
   ]
  },
  {
   "cell_type": "code",
   "execution_count": 80,
   "metadata": {},
   "outputs": [],
   "source": [
    "customer_location_label = ['The Embarcadero', 'SF Ferry Building', 'BART Stn 4th St','Berry St', 'BART Stn 5th St',  ]"
   ]
  },
  {
   "cell_type": "code",
   "execution_count": 81,
   "metadata": {},
   "outputs": [
    {
     "name": "stdout",
     "output_type": "stream",
     "text": [
      "San Francisco Caltrain (Townsend St at 4th St)\n",
      "San Francisco Caltrain Station 2  (Townsend St at 4th St)\n",
      "Market St at 10th St\n",
      "Berry St at 4th St\n",
      "San Francisco Ferry Building (Harry Bridges Plaza)\n"
     ]
    }
   ],
   "source": [
    "location_label = []\n",
    "for i in range(5):\n",
    "    print(df_bike_share[df_bike_share['start_station_id'] == float(subscriber_location_count.index[i])].start_station_name.unique()[0])"
   ]
  },
  {
   "cell_type": "code",
   "execution_count": 82,
   "metadata": {},
   "outputs": [],
   "source": [
    "subscriber_location_label = ['SF Caltrain', 'SF Caltrain Stn 2', 'Market St','Berry St', 'SF Ferry Building']"
   ]
  },
  {
   "cell_type": "code",
   "execution_count": 83,
   "metadata": {},
   "outputs": [
    {
     "data": {
      "image/png": "[encoded data removed]",
      "text/plain": [
       "<matplotlib.figure.Figure at 0x7f2028bae5f8>"
      ]
     },
     "metadata": {
      "needs_background": "light"
     },
     "output_type": "display_data"
    }
   ],
   "source": [
    "plt.figure(figsize=(20,8))\n",
    "\n",
    "ax1 = plt.subplot(1,2,1)\n",
    "df_bike_share_copy_customer['start_station_id'].value_counts()[:5].plot(kind='bar');\n",
    "plt.xticks([0,1,2,3,4],customer_location_label,rotation=0);\n",
    "subplot_label(ax1,'Customer Rides across Locations', 'Start Location','No of Rides')\n",
    "\n",
    "ax2 = plt.subplot(1,2,2)\n",
    "df_bike_share_copy_subscriber['start_station_id'].value_counts()[:5].plot(kind='bar');\n",
    "plt.xticks([0,1,2,3,4],subscriber_location_label,rotation=0);\n",
    "subplot_label(ax2,'Subscriber Rides across Locations', 'Start Location','No of Rides')"
   ]
  },
  {
   "cell_type": "markdown",
   "metadata": {},
   "source": [
    "### Multi Variate Exploration"
   ]
  },
  {
   "cell_type": "code",
   "execution_count": 90,
   "metadata": {},
   "outputs": [],
   "source": [
    "pd.options.mode.chained_assignment = None  "
   ]
  },
  {
   "cell_type": "code",
   "execution_count": 91,
   "metadata": {},
   "outputs": [],
   "source": [
    "df_bike_share_copy_customer.loc[:,'day_of_week'] = df_bike_share_copy_customer['start_time'].dt.dayofweek.astype('str')\n",
    "df_bike_share_copy_customer.loc[:,'start_hour'] = df_bike_share_copy_customer['start_time'].dt.hour.astype('str')\n",
    "df_bike_share_copy_subscriber.loc[:,'day_of_week'] = df_bike_share_copy_subscriber['start_time'].dt.dayofweek.astype('str')\n",
    "df_bike_share_copy_subscriber.loc[:,'start_hour'] = df_bike_share_copy_subscriber['start_time'].dt.hour.astype('str')"
   ]
  },
  {
   "cell_type": "code",
   "execution_count": 92,
   "metadata": {},
   "outputs": [
    {
     "data": {
      "text/html": [
       "<div>\n",
       "<style>\n",
       "    .dataframe thead tr:only-child th {\n",
       "        text-align: right;\n",
       "    }\n",
       "\n",
       "    .dataframe thead th {\n",
       "        text-align: left;\n",
       "    }\n",
       "\n",
       "    .dataframe tbody tr th {\n",
       "        vertical-align: top;\n",
       "    }\n",
       "</style>\n",
       "<table border=\"1\" class=\"dataframe\">\n",
       "  <thead>\n",
       "    <tr style=\"text-align: right;\">\n",
       "      <th></th>\n",
       "      <th>bike_id</th>\n",
       "      <th>duration_sec</th>\n",
       "      <th>end_station_id</th>\n",
       "      <th>end_time</th>\n",
       "      <th>member_birth_year</th>\n",
       "      <th>member_gender</th>\n",
       "      <th>start_station_id</th>\n",
       "      <th>start_time</th>\n",
       "      <th>user_type</th>\n",
       "      <th>duration_min</th>\n",
       "      <th>age</th>\n",
       "    </tr>\n",
       "  </thead>\n",
       "  <tbody>\n",
       "    <tr>\n",
       "      <th>0</th>\n",
       "      <td>96</td>\n",
       "      <td>80110</td>\n",
       "      <td>43.0</td>\n",
       "      <td>2018-01-01 15:12:50.245</td>\n",
       "      <td>1987</td>\n",
       "      <td>Male</td>\n",
       "      <td>74.0</td>\n",
       "      <td>2017-12-31 16:57:39.654</td>\n",
       "      <td>Customer</td>\n",
       "      <td>1335</td>\n",
       "      <td>30</td>\n",
       "    </tr>\n",
       "    <tr>\n",
       "      <th>1</th>\n",
       "      <td>88</td>\n",
       "      <td>78800</td>\n",
       "      <td>96.0</td>\n",
       "      <td>2018-01-01 13:49:55.617</td>\n",
       "      <td>1965</td>\n",
       "      <td>Female</td>\n",
       "      <td>284.0</td>\n",
       "      <td>2017-12-31 15:56:34.842</td>\n",
       "      <td>Customer</td>\n",
       "      <td>1313</td>\n",
       "      <td>52</td>\n",
       "    </tr>\n",
       "    <tr>\n",
       "      <th>2</th>\n",
       "      <td>3167</td>\n",
       "      <td>43603</td>\n",
       "      <td>247.0</td>\n",
       "      <td>2018-01-01 02:29:57.571</td>\n",
       "      <td>1997</td>\n",
       "      <td>Female</td>\n",
       "      <td>239.0</td>\n",
       "      <td>2017-12-31 14:23:14.001</td>\n",
       "      <td>Subscriber</td>\n",
       "      <td>727</td>\n",
       "      <td>20</td>\n",
       "    </tr>\n",
       "    <tr>\n",
       "      <th>3</th>\n",
       "      <td>3539</td>\n",
       "      <td>4507</td>\n",
       "      <td>259.0</td>\n",
       "      <td>2018-01-01 01:04:35.619</td>\n",
       "      <td>1991</td>\n",
       "      <td>Female</td>\n",
       "      <td>259.0</td>\n",
       "      <td>2017-12-31 23:49:28.422</td>\n",
       "      <td>Customer</td>\n",
       "      <td>75</td>\n",
       "      <td>26</td>\n",
       "    </tr>\n",
       "    <tr>\n",
       "      <th>4</th>\n",
       "      <td>2311</td>\n",
       "      <td>2183</td>\n",
       "      <td>24.0</td>\n",
       "      <td>2018-01-01 00:29:18.743</td>\n",
       "      <td>1990</td>\n",
       "      <td>Male</td>\n",
       "      <td>67.0</td>\n",
       "      <td>2017-12-31 23:52:55.581</td>\n",
       "      <td>Subscriber</td>\n",
       "      <td>36</td>\n",
       "      <td>27</td>\n",
       "    </tr>\n",
       "  </tbody>\n",
       "</table>\n",
       "</div>"
      ],
      "text/plain": [
       "  bike_id  duration_sec end_station_id                end_time  \\\n",
       "0      96         80110           43.0 2018-01-01 15:12:50.245   \n",
       "1      88         78800           96.0 2018-01-01 13:49:55.617   \n",
       "2    3167         43603          247.0 2018-01-01 02:29:57.571   \n",
       "3    3539          4507          259.0 2018-01-01 01:04:35.619   \n",
       "4    2311          2183           24.0 2018-01-01 00:29:18.743   \n",
       "\n",
       "   member_birth_year member_gender start_station_id              start_time  \\\n",
       "0               1987          Male             74.0 2017-12-31 16:57:39.654   \n",
       "1               1965        Female            284.0 2017-12-31 15:56:34.842   \n",
       "2               1997        Female            239.0 2017-12-31 14:23:14.001   \n",
       "3               1991        Female            259.0 2017-12-31 23:49:28.422   \n",
       "4               1990          Male             67.0 2017-12-31 23:52:55.581   \n",
       "\n",
       "    user_type  duration_min  age  \n",
       "0    Customer          1335   30  \n",
       "1    Customer          1313   52  \n",
       "2  Subscriber           727   20  \n",
       "3    Customer            75   26  \n",
       "4  Subscriber            36   27  "
      ]
     },
     "execution_count": 92,
     "metadata": {},
     "output_type": "execute_result"
    }
   ],
   "source": [
    "df_bike_share_copy.head()"
   ]
  },
  {
   "cell_type": "code",
   "execution_count": 93,
   "metadata": {},
   "outputs": [
    {
     "name": "stdout",
     "output_type": "stream",
     "text": [
      "<class 'pandas.core.frame.DataFrame'>\n",
      "Int64Index: 1144221 entries, 0 to 1213625\n",
      "Data columns (total 11 columns):\n",
      "bike_id              1144221 non-null object\n",
      "duration_sec         1144221 non-null int64\n",
      "end_station_id       1144221 non-null object\n",
      "end_time             1144221 non-null datetime64[ns]\n",
      "member_birth_year    1144221 non-null int64\n",
      "member_gender        1144221 non-null category\n",
      "start_station_id     1144221 non-null object\n",
      "start_time           1144221 non-null datetime64[ns]\n",
      "user_type            1144221 non-null category\n",
      "duration_min         1144221 non-null int64\n",
      "age                  1144221 non-null int64\n",
      "dtypes: category(2), datetime64[ns](2), int64(4), object(3)\n",
      "memory usage: 129.5+ MB\n"
     ]
    }
   ],
   "source": [
    "df_bike_share_copy.info()"
   ]
  },
  {
   "cell_type": "code",
   "execution_count": 94,
   "metadata": {},
   "outputs": [],
   "source": [
    "customer_week_count = []\n",
    "for i in range(24):\n",
    "    hour_count = []\n",
    "    for j in range(7):\n",
    "        hour_count.append(df_bike_share_copy_customer[(df_bike_share_copy_customer['start_hour'] == str(i)) & (df_bike_share_copy_customer['day_of_week'] == str(j))]['start_time'].count())\n",
    "    customer_week_count.append(hour_count)    "
   ]
  },
  {
   "cell_type": "code",
   "execution_count": 95,
   "metadata": {},
   "outputs": [],
   "source": [
    "subscriber_week_count = []\n",
    "for i in range(24):\n",
    "    hour_count = []\n",
    "    for j in range(7):\n",
    "        hour_count.append(df_bike_share_copy_subscriber[(df_bike_share_copy_subscriber['start_hour'] == str(i)) & (df_bike_share_copy_subscriber['day_of_week'] == str(j))]['start_time'].count())\n",
    "    subscriber_week_count.append(hour_count) "
   ]
  },
  {
   "cell_type": "code",
   "execution_count": 96,
   "metadata": {},
   "outputs": [
    {
     "data": {
      "image/png": "[encoded data removed]",
      "text/plain": [
       "<matplotlib.figure.Figure at 0x7f201ac8ad30>"
      ]
     },
     "metadata": {
      "needs_background": "light"
     },
     "output_type": "display_data"
    }
   ],
   "source": [
    "plt.figure(figsize=(20,10))\n",
    "\n",
    "plt.subplot(1,2,1)    \n",
    "ax1 = sb.heatmap(customer_week_count, annot=True, fmt='d', cmap='Blues', linewidths=0.5)\n",
    "ax1.set_xticklabels(week_order)\n",
    "subplot_label(ax1,'Ride Duration of Customers through the Day across the Week', 'Days of Week','Hours of Day')\n",
    "\n",
    "plt.subplot(1,2,2)\n",
    "ax2 = sb.heatmap(subscriber_week_count, annot=True, fmt='d', cmap='Blues', linewidths=0.5)\n",
    "ax2.set_xticklabels(week_order)\n",
    "subplot_label(ax2,'Ride Duration of Subscribers through the Day across the Week', 'Days of Week','Hours of Day')"
   ]
  },
  {
   "cell_type": "markdown",
   "metadata": {},
   "source": [
    "* It can be seen that the customers use bike share more in the office commute hours on weekdays and in noon to evening on weekends\n",
    "* Much of Subscribers use bike share service in the office commute hours on weekdays"
   ]
  }
 ],
 "metadata": {
  "kernelspec": {
   "display_name": "Python 3",
   "language": "python",
   "name": "python3"
  },
  "language_info": {
   "codemirror_mode": {
    "name": "ipython",
    "version": 3
   },
   "file_extension": ".py",
   "mimetype": "text/x-python",
   "name": "python",
   "nbconvert_exporter": "python",
   "pygments_lexer": "ipython3",
   "version": "3.6.3"
  }
 },
 "nbformat": 4,
 "nbformat_minor": 2
}
